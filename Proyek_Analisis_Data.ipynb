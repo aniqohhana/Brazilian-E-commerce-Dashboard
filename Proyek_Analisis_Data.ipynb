{
 "cells": [
  {
   "cell_type": "markdown",
   "metadata": {
    "id": "H9wADwK78DCz"
   },
   "source": [
    "# Data Analysis Project: [Brazilian E-Commerce Dataset]\n",
    "- **Name:** Aniqoh Hana Haura\n",
    "- **Email:** hana.haura06@gmail.com\n",
    "- **ID Dicoding:** Aniqoh Hana Haura"
   ]
  },
  {
   "cell_type": "markdown",
   "metadata": {
    "id": "eE0raob58DC0"
   },
   "source": [
    "## Defining Business Questions"
   ]
  },
  {
   "cell_type": "markdown",
   "metadata": {
    "id": "GmQeQ5YF8DC0"
   },
   "source": [
    "1. How many e-commerce customers were there from 2016 to 2018?\n",
    "2. How many orders were there from 2016 to 2018?\n",
    "3. What was the average e-commerce revenue from 2016 to 2018?\n",
    "4. What was the e-commerce revenue in 2016, 2017, and 2018?\n",
    "5. What was the average e-commerce customer satisfaction from 2016 to 2018?\n",
    "6. What was the distribution of e-commerce customer satisfaction in 2016, 2017, and 2018?\n",
    "7. What was the distribution of payment method preferences in 2016, 2017, and 2018?"
   ]
  },
  {
   "cell_type": "markdown",
   "metadata": {
    "id": "H-z4QGlO8DC1"
   },
   "source": [
    "## Import Required Libraries"
   ]
  },
  {
   "cell_type": "code",
   "execution_count": 1,
   "metadata": {
    "id": "FVYwaObI8DC1"
   },
   "outputs": [],
   "source": [
    "import pandas as pd\n",
    "import numpy as np\n",
    "import matplotlib.pyplot as plt\n",
    "import seaborn as sns"
   ]
  },
  {
   "cell_type": "markdown",
   "metadata": {
    "id": "h_Sh51Xy8DC1"
   },
   "source": [
    "## Data Wrangling"
   ]
  },
  {
   "cell_type": "markdown",
   "metadata": {},
   "source": [
    "There are 7 datasets: customers dataset, orders dataset, order items dataset, order payments dataset, order reviews dataset, products dataset, and product category name translation dataset."
   ]
  },
  {
   "cell_type": "markdown",
   "metadata": {
    "id": "sXU2GBYu8DC1"
   },
   "source": [
    "### Gathering Data"
   ]
  },
  {
   "cell_type": "markdown",
   "metadata": {},
   "source": [
    "#### Customers Dataset"
   ]
  },
  {
   "cell_type": "code",
   "execution_count": 2,
   "metadata": {
    "id": "zjCBk1BI8DC1"
   },
   "outputs": [
    {
     "data": {
      "text/html": [
       "<div>\n",
       "<style scoped>\n",
       "    .dataframe tbody tr th:only-of-type {\n",
       "        vertical-align: middle;\n",
       "    }\n",
       "\n",
       "    .dataframe tbody tr th {\n",
       "        vertical-align: top;\n",
       "    }\n",
       "\n",
       "    .dataframe thead th {\n",
       "        text-align: right;\n",
       "    }\n",
       "</style>\n",
       "<table border=\"1\" class=\"dataframe\">\n",
       "  <thead>\n",
       "    <tr style=\"text-align: right;\">\n",
       "      <th></th>\n",
       "      <th>customer_id</th>\n",
       "      <th>customer_unique_id</th>\n",
       "      <th>customer_zip_code_prefix</th>\n",
       "      <th>customer_city</th>\n",
       "      <th>customer_state</th>\n",
       "    </tr>\n",
       "  </thead>\n",
       "  <tbody>\n",
       "    <tr>\n",
       "      <th>0</th>\n",
       "      <td>06b8999e2fba1a1fbc88172c00ba8bc7</td>\n",
       "      <td>861eff4711a542e4b93843c6dd7febb0</td>\n",
       "      <td>14409</td>\n",
       "      <td>franca</td>\n",
       "      <td>SP</td>\n",
       "    </tr>\n",
       "    <tr>\n",
       "      <th>1</th>\n",
       "      <td>18955e83d337fd6b2def6b18a428ac77</td>\n",
       "      <td>290c77bc529b7ac935b93aa66c333dc3</td>\n",
       "      <td>9790</td>\n",
       "      <td>sao bernardo do campo</td>\n",
       "      <td>SP</td>\n",
       "    </tr>\n",
       "    <tr>\n",
       "      <th>2</th>\n",
       "      <td>4e7b3e00288586ebd08712fdd0374a03</td>\n",
       "      <td>060e732b5b29e8181a18229c7b0b2b5e</td>\n",
       "      <td>1151</td>\n",
       "      <td>sao paulo</td>\n",
       "      <td>SP</td>\n",
       "    </tr>\n",
       "    <tr>\n",
       "      <th>3</th>\n",
       "      <td>b2b6027bc5c5109e529d4dc6358b12c3</td>\n",
       "      <td>259dac757896d24d7702b9acbbff3f3c</td>\n",
       "      <td>8775</td>\n",
       "      <td>mogi das cruzes</td>\n",
       "      <td>SP</td>\n",
       "    </tr>\n",
       "    <tr>\n",
       "      <th>4</th>\n",
       "      <td>4f2d8ab171c80ec8364f7c12e35b23ad</td>\n",
       "      <td>345ecd01c38d18a9036ed96c73b8d066</td>\n",
       "      <td>13056</td>\n",
       "      <td>campinas</td>\n",
       "      <td>SP</td>\n",
       "    </tr>\n",
       "  </tbody>\n",
       "</table>\n",
       "</div>"
      ],
      "text/plain": [
       "                        customer_id                customer_unique_id  \\\n",
       "0  06b8999e2fba1a1fbc88172c00ba8bc7  861eff4711a542e4b93843c6dd7febb0   \n",
       "1  18955e83d337fd6b2def6b18a428ac77  290c77bc529b7ac935b93aa66c333dc3   \n",
       "2  4e7b3e00288586ebd08712fdd0374a03  060e732b5b29e8181a18229c7b0b2b5e   \n",
       "3  b2b6027bc5c5109e529d4dc6358b12c3  259dac757896d24d7702b9acbbff3f3c   \n",
       "4  4f2d8ab171c80ec8364f7c12e35b23ad  345ecd01c38d18a9036ed96c73b8d066   \n",
       "\n",
       "   customer_zip_code_prefix          customer_city customer_state  \n",
       "0                     14409                 franca             SP  \n",
       "1                      9790  sao bernardo do campo             SP  \n",
       "2                      1151              sao paulo             SP  \n",
       "3                      8775        mogi das cruzes             SP  \n",
       "4                     13056               campinas             SP  "
      ]
     },
     "execution_count": 2,
     "metadata": {},
     "output_type": "execute_result"
    }
   ],
   "source": [
    "customers_df = pd.read_csv('C:/Users/aniqo/Projects/Submission/data/customers_dataset.csv')\n",
    "customers_df.head()"
   ]
  },
  {
   "cell_type": "markdown",
   "metadata": {},
   "source": [
    "**Insight:**\n",
    "- customer_id is the key for the order dataset. Each order has a unique customer_id.\n",
    "- customer_unique_id is a unique identifier for each customer.\n",
    "- customer_zip_code_prefix references to the first five digits of the customer's postcode.\n",
    "- customer_city a reference to the customer's city name.\n",
    "- customer_state a reference to the customer's state."
   ]
  },
  {
   "cell_type": "code",
   "execution_count": 3,
   "metadata": {},
   "outputs": [
    {
     "data": {
      "text/html": [
       "<div>\n",
       "<style scoped>\n",
       "    .dataframe tbody tr th:only-of-type {\n",
       "        vertical-align: middle;\n",
       "    }\n",
       "\n",
       "    .dataframe tbody tr th {\n",
       "        vertical-align: top;\n",
       "    }\n",
       "\n",
       "    .dataframe thead th {\n",
       "        text-align: right;\n",
       "    }\n",
       "</style>\n",
       "<table border=\"1\" class=\"dataframe\">\n",
       "  <thead>\n",
       "    <tr style=\"text-align: right;\">\n",
       "      <th></th>\n",
       "      <th>order_id</th>\n",
       "      <th>customer_id</th>\n",
       "      <th>order_status</th>\n",
       "      <th>order_purchase_timestamp</th>\n",
       "      <th>order_approved_at</th>\n",
       "      <th>order_delivered_carrier_date</th>\n",
       "      <th>order_delivered_customer_date</th>\n",
       "      <th>order_estimated_delivery_date</th>\n",
       "    </tr>\n",
       "  </thead>\n",
       "  <tbody>\n",
       "    <tr>\n",
       "      <th>0</th>\n",
       "      <td>e481f51cbdc54678b7cc49136f2d6af7</td>\n",
       "      <td>9ef432eb6251297304e76186b10a928d</td>\n",
       "      <td>delivered</td>\n",
       "      <td>2017-10-02 10:56:33</td>\n",
       "      <td>2017-10-02 11:07:15</td>\n",
       "      <td>2017-10-04 19:55:00</td>\n",
       "      <td>2017-10-10 21:25:13</td>\n",
       "      <td>2017-10-18 00:00:00</td>\n",
       "    </tr>\n",
       "    <tr>\n",
       "      <th>1</th>\n",
       "      <td>53cdb2fc8bc7dce0b6741e2150273451</td>\n",
       "      <td>b0830fb4747a6c6d20dea0b8c802d7ef</td>\n",
       "      <td>delivered</td>\n",
       "      <td>2018-07-24 20:41:37</td>\n",
       "      <td>2018-07-26 03:24:27</td>\n",
       "      <td>2018-07-26 14:31:00</td>\n",
       "      <td>2018-08-07 15:27:45</td>\n",
       "      <td>2018-08-13 00:00:00</td>\n",
       "    </tr>\n",
       "    <tr>\n",
       "      <th>2</th>\n",
       "      <td>47770eb9100c2d0c44946d9cf07ec65d</td>\n",
       "      <td>41ce2a54c0b03bf3443c3d931a367089</td>\n",
       "      <td>delivered</td>\n",
       "      <td>2018-08-08 08:38:49</td>\n",
       "      <td>2018-08-08 08:55:23</td>\n",
       "      <td>2018-08-08 13:50:00</td>\n",
       "      <td>2018-08-17 18:06:29</td>\n",
       "      <td>2018-09-04 00:00:00</td>\n",
       "    </tr>\n",
       "    <tr>\n",
       "      <th>3</th>\n",
       "      <td>949d5b44dbf5de918fe9c16f97b45f8a</td>\n",
       "      <td>f88197465ea7920adcdbec7375364d82</td>\n",
       "      <td>delivered</td>\n",
       "      <td>2017-11-18 19:28:06</td>\n",
       "      <td>2017-11-18 19:45:59</td>\n",
       "      <td>2017-11-22 13:39:59</td>\n",
       "      <td>2017-12-02 00:28:42</td>\n",
       "      <td>2017-12-15 00:00:00</td>\n",
       "    </tr>\n",
       "    <tr>\n",
       "      <th>4</th>\n",
       "      <td>ad21c59c0840e6cb83a9ceb5573f8159</td>\n",
       "      <td>8ab97904e6daea8866dbdbc4fb7aad2c</td>\n",
       "      <td>delivered</td>\n",
       "      <td>2018-02-13 21:18:39</td>\n",
       "      <td>2018-02-13 22:20:29</td>\n",
       "      <td>2018-02-14 19:46:34</td>\n",
       "      <td>2018-02-16 18:17:02</td>\n",
       "      <td>2018-02-26 00:00:00</td>\n",
       "    </tr>\n",
       "  </tbody>\n",
       "</table>\n",
       "</div>"
      ],
      "text/plain": [
       "                           order_id                       customer_id  \\\n",
       "0  e481f51cbdc54678b7cc49136f2d6af7  9ef432eb6251297304e76186b10a928d   \n",
       "1  53cdb2fc8bc7dce0b6741e2150273451  b0830fb4747a6c6d20dea0b8c802d7ef   \n",
       "2  47770eb9100c2d0c44946d9cf07ec65d  41ce2a54c0b03bf3443c3d931a367089   \n",
       "3  949d5b44dbf5de918fe9c16f97b45f8a  f88197465ea7920adcdbec7375364d82   \n",
       "4  ad21c59c0840e6cb83a9ceb5573f8159  8ab97904e6daea8866dbdbc4fb7aad2c   \n",
       "\n",
       "  order_status order_purchase_timestamp    order_approved_at  \\\n",
       "0    delivered      2017-10-02 10:56:33  2017-10-02 11:07:15   \n",
       "1    delivered      2018-07-24 20:41:37  2018-07-26 03:24:27   \n",
       "2    delivered      2018-08-08 08:38:49  2018-08-08 08:55:23   \n",
       "3    delivered      2017-11-18 19:28:06  2017-11-18 19:45:59   \n",
       "4    delivered      2018-02-13 21:18:39  2018-02-13 22:20:29   \n",
       "\n",
       "  order_delivered_carrier_date order_delivered_customer_date  \\\n",
       "0          2017-10-04 19:55:00           2017-10-10 21:25:13   \n",
       "1          2018-07-26 14:31:00           2018-08-07 15:27:45   \n",
       "2          2018-08-08 13:50:00           2018-08-17 18:06:29   \n",
       "3          2017-11-22 13:39:59           2017-12-02 00:28:42   \n",
       "4          2018-02-14 19:46:34           2018-02-16 18:17:02   \n",
       "\n",
       "  order_estimated_delivery_date  \n",
       "0           2017-10-18 00:00:00  \n",
       "1           2018-08-13 00:00:00  \n",
       "2           2018-09-04 00:00:00  \n",
       "3           2017-12-15 00:00:00  \n",
       "4           2018-02-26 00:00:00  "
      ]
     },
     "execution_count": 3,
     "metadata": {},
     "output_type": "execute_result"
    }
   ],
   "source": [
    "orders_df = pd.read_csv('C:/Users/aniqo/Projects/Submission/data/orders_dataset.csv')\n",
    "orders_df.head()"
   ]
  },
  {
   "cell_type": "markdown",
   "metadata": {},
   "source": [
    "**Insight:**\n",
    "- order_id is a unique identifier for each order.\n",
    "- customer_id is the key to the customer dataset. Each order has a unique customer_id.\n",
    "- order_status reference to the order status (invoiced/created/approved/processing/shipped/delivered/unavailable/canceled).\n",
    "- order_purchase_timestamp shows the purchase timestamp.\n",
    "- order_approved_at shows the payment approval timestamp.\n",
    "- order_delivered_carrier_date shows the order posting timestamp. When it was handled to the logistic partner.\n",
    "- order_delivered_customer_date shows the actual order delivery date to the customer.\n",
    "- order_estimated_delivery_date shows the estimated delivery date that was informed to customer at the purchase moment."
   ]
  },
  {
   "cell_type": "markdown",
   "metadata": {},
   "source": [
    "#### Products Dataset"
   ]
  },
  {
   "cell_type": "code",
   "execution_count": 4,
   "metadata": {},
   "outputs": [
    {
     "data": {
      "text/html": [
       "<div>\n",
       "<style scoped>\n",
       "    .dataframe tbody tr th:only-of-type {\n",
       "        vertical-align: middle;\n",
       "    }\n",
       "\n",
       "    .dataframe tbody tr th {\n",
       "        vertical-align: top;\n",
       "    }\n",
       "\n",
       "    .dataframe thead th {\n",
       "        text-align: right;\n",
       "    }\n",
       "</style>\n",
       "<table border=\"1\" class=\"dataframe\">\n",
       "  <thead>\n",
       "    <tr style=\"text-align: right;\">\n",
       "      <th></th>\n",
       "      <th>product_id</th>\n",
       "      <th>product_category_name</th>\n",
       "      <th>product_name_lenght</th>\n",
       "      <th>product_description_lenght</th>\n",
       "      <th>product_photos_qty</th>\n",
       "      <th>product_weight_g</th>\n",
       "      <th>product_length_cm</th>\n",
       "      <th>product_height_cm</th>\n",
       "      <th>product_width_cm</th>\n",
       "    </tr>\n",
       "  </thead>\n",
       "  <tbody>\n",
       "    <tr>\n",
       "      <th>0</th>\n",
       "      <td>1e9e8ef04dbcff4541ed26657ea517e5</td>\n",
       "      <td>perfumaria</td>\n",
       "      <td>40.0</td>\n",
       "      <td>287.0</td>\n",
       "      <td>1.0</td>\n",
       "      <td>225.0</td>\n",
       "      <td>16.0</td>\n",
       "      <td>10.0</td>\n",
       "      <td>14.0</td>\n",
       "    </tr>\n",
       "    <tr>\n",
       "      <th>1</th>\n",
       "      <td>3aa071139cb16b67ca9e5dea641aaa2f</td>\n",
       "      <td>artes</td>\n",
       "      <td>44.0</td>\n",
       "      <td>276.0</td>\n",
       "      <td>1.0</td>\n",
       "      <td>1000.0</td>\n",
       "      <td>30.0</td>\n",
       "      <td>18.0</td>\n",
       "      <td>20.0</td>\n",
       "    </tr>\n",
       "    <tr>\n",
       "      <th>2</th>\n",
       "      <td>96bd76ec8810374ed1b65e291975717f</td>\n",
       "      <td>esporte_lazer</td>\n",
       "      <td>46.0</td>\n",
       "      <td>250.0</td>\n",
       "      <td>1.0</td>\n",
       "      <td>154.0</td>\n",
       "      <td>18.0</td>\n",
       "      <td>9.0</td>\n",
       "      <td>15.0</td>\n",
       "    </tr>\n",
       "    <tr>\n",
       "      <th>3</th>\n",
       "      <td>cef67bcfe19066a932b7673e239eb23d</td>\n",
       "      <td>bebes</td>\n",
       "      <td>27.0</td>\n",
       "      <td>261.0</td>\n",
       "      <td>1.0</td>\n",
       "      <td>371.0</td>\n",
       "      <td>26.0</td>\n",
       "      <td>4.0</td>\n",
       "      <td>26.0</td>\n",
       "    </tr>\n",
       "    <tr>\n",
       "      <th>4</th>\n",
       "      <td>9dc1a7de274444849c219cff195d0b71</td>\n",
       "      <td>utilidades_domesticas</td>\n",
       "      <td>37.0</td>\n",
       "      <td>402.0</td>\n",
       "      <td>4.0</td>\n",
       "      <td>625.0</td>\n",
       "      <td>20.0</td>\n",
       "      <td>17.0</td>\n",
       "      <td>13.0</td>\n",
       "    </tr>\n",
       "  </tbody>\n",
       "</table>\n",
       "</div>"
      ],
      "text/plain": [
       "                         product_id  product_category_name  \\\n",
       "0  1e9e8ef04dbcff4541ed26657ea517e5             perfumaria   \n",
       "1  3aa071139cb16b67ca9e5dea641aaa2f                  artes   \n",
       "2  96bd76ec8810374ed1b65e291975717f          esporte_lazer   \n",
       "3  cef67bcfe19066a932b7673e239eb23d                  bebes   \n",
       "4  9dc1a7de274444849c219cff195d0b71  utilidades_domesticas   \n",
       "\n",
       "   product_name_lenght  product_description_lenght  product_photos_qty  \\\n",
       "0                 40.0                       287.0                 1.0   \n",
       "1                 44.0                       276.0                 1.0   \n",
       "2                 46.0                       250.0                 1.0   \n",
       "3                 27.0                       261.0                 1.0   \n",
       "4                 37.0                       402.0                 4.0   \n",
       "\n",
       "   product_weight_g  product_length_cm  product_height_cm  product_width_cm  \n",
       "0             225.0               16.0               10.0              14.0  \n",
       "1            1000.0               30.0               18.0              20.0  \n",
       "2             154.0               18.0                9.0              15.0  \n",
       "3             371.0               26.0                4.0              26.0  \n",
       "4             625.0               20.0               17.0              13.0  "
      ]
     },
     "execution_count": 4,
     "metadata": {},
     "output_type": "execute_result"
    }
   ],
   "source": [
    "products_df = pd.read_csv('C:/Users/aniqo/Projects/Submission/data/products_dataset.csv')\n",
    "products_df.head()"
   ]
  },
  {
   "cell_type": "markdown",
   "metadata": {},
   "source": [
    "**Insight:**\n",
    "- product_id is a unique identifier for each product.\n",
    "- product_category_name in Portuguese.\n",
    "- product_name_length is a number of characters extracted from the product name.\n",
    "- product_description_length is a number of characters extracted from the product description.\n",
    "- product_photos_qty is a number of product published photos.\n",
    "- product_weight_g is a product weight measured in grams.\n",
    "- product_length_cm is a product length measured in centimeters.\n",
    "- product_height_cm is a product height measured in centimeters.\n",
    "- product_width_cm is a product width measured in centimeters."
   ]
  },
  {
   "cell_type": "markdown",
   "metadata": {},
   "source": [
    "#### Product Category Name Translation Dataset"
   ]
  },
  {
   "cell_type": "code",
   "execution_count": 5,
   "metadata": {},
   "outputs": [
    {
     "data": {
      "text/html": [
       "<div>\n",
       "<style scoped>\n",
       "    .dataframe tbody tr th:only-of-type {\n",
       "        vertical-align: middle;\n",
       "    }\n",
       "\n",
       "    .dataframe tbody tr th {\n",
       "        vertical-align: top;\n",
       "    }\n",
       "\n",
       "    .dataframe thead th {\n",
       "        text-align: right;\n",
       "    }\n",
       "</style>\n",
       "<table border=\"1\" class=\"dataframe\">\n",
       "  <thead>\n",
       "    <tr style=\"text-align: right;\">\n",
       "      <th></th>\n",
       "      <th>product_category_name</th>\n",
       "      <th>product_category_name_english</th>\n",
       "    </tr>\n",
       "  </thead>\n",
       "  <tbody>\n",
       "    <tr>\n",
       "      <th>0</th>\n",
       "      <td>beleza_saude</td>\n",
       "      <td>health_beauty</td>\n",
       "    </tr>\n",
       "    <tr>\n",
       "      <th>1</th>\n",
       "      <td>informatica_acessorios</td>\n",
       "      <td>computers_accessories</td>\n",
       "    </tr>\n",
       "    <tr>\n",
       "      <th>2</th>\n",
       "      <td>automotivo</td>\n",
       "      <td>auto</td>\n",
       "    </tr>\n",
       "    <tr>\n",
       "      <th>3</th>\n",
       "      <td>cama_mesa_banho</td>\n",
       "      <td>bed_bath_table</td>\n",
       "    </tr>\n",
       "    <tr>\n",
       "      <th>4</th>\n",
       "      <td>moveis_decoracao</td>\n",
       "      <td>furniture_decor</td>\n",
       "    </tr>\n",
       "  </tbody>\n",
       "</table>\n",
       "</div>"
      ],
      "text/plain": [
       "    product_category_name product_category_name_english\n",
       "0            beleza_saude                 health_beauty\n",
       "1  informatica_acessorios         computers_accessories\n",
       "2              automotivo                          auto\n",
       "3         cama_mesa_banho                bed_bath_table\n",
       "4        moveis_decoracao               furniture_decor"
      ]
     },
     "execution_count": 5,
     "metadata": {},
     "output_type": "execute_result"
    }
   ],
   "source": [
    "product_category_name_t_df = pd.read_csv('C:/Users/aniqo/Projects/Submission/data/product_category_name_translation.csv')\n",
    "product_category_name_t_df.head()"
   ]
  },
  {
   "cell_type": "markdown",
   "metadata": {},
   "source": [
    "**Insight:**\n",
    "- product_category_name in Portuguese. \n",
    "- product_category_name_english in English"
   ]
  },
  {
   "cell_type": "markdown",
   "metadata": {},
   "source": [
    "#### Order Items Dataset"
   ]
  },
  {
   "cell_type": "code",
   "execution_count": 6,
   "metadata": {},
   "outputs": [
    {
     "data": {
      "text/html": [
       "<div>\n",
       "<style scoped>\n",
       "    .dataframe tbody tr th:only-of-type {\n",
       "        vertical-align: middle;\n",
       "    }\n",
       "\n",
       "    .dataframe tbody tr th {\n",
       "        vertical-align: top;\n",
       "    }\n",
       "\n",
       "    .dataframe thead th {\n",
       "        text-align: right;\n",
       "    }\n",
       "</style>\n",
       "<table border=\"1\" class=\"dataframe\">\n",
       "  <thead>\n",
       "    <tr style=\"text-align: right;\">\n",
       "      <th></th>\n",
       "      <th>order_id</th>\n",
       "      <th>order_item_id</th>\n",
       "      <th>product_id</th>\n",
       "      <th>seller_id</th>\n",
       "      <th>shipping_limit_date</th>\n",
       "      <th>price</th>\n",
       "      <th>freight_value</th>\n",
       "    </tr>\n",
       "  </thead>\n",
       "  <tbody>\n",
       "    <tr>\n",
       "      <th>0</th>\n",
       "      <td>00010242fe8c5a6d1ba2dd792cb16214</td>\n",
       "      <td>1</td>\n",
       "      <td>4244733e06e7ecb4970a6e2683c13e61</td>\n",
       "      <td>48436dade18ac8b2bce089ec2a041202</td>\n",
       "      <td>2017-09-19 09:45:35</td>\n",
       "      <td>58.90</td>\n",
       "      <td>13.29</td>\n",
       "    </tr>\n",
       "    <tr>\n",
       "      <th>1</th>\n",
       "      <td>00018f77f2f0320c557190d7a144bdd3</td>\n",
       "      <td>1</td>\n",
       "      <td>e5f2d52b802189ee658865ca93d83a8f</td>\n",
       "      <td>dd7ddc04e1b6c2c614352b383efe2d36</td>\n",
       "      <td>2017-05-03 11:05:13</td>\n",
       "      <td>239.90</td>\n",
       "      <td>19.93</td>\n",
       "    </tr>\n",
       "    <tr>\n",
       "      <th>2</th>\n",
       "      <td>000229ec398224ef6ca0657da4fc703e</td>\n",
       "      <td>1</td>\n",
       "      <td>c777355d18b72b67abbeef9df44fd0fd</td>\n",
       "      <td>5b51032eddd242adc84c38acab88f23d</td>\n",
       "      <td>2018-01-18 14:48:30</td>\n",
       "      <td>199.00</td>\n",
       "      <td>17.87</td>\n",
       "    </tr>\n",
       "    <tr>\n",
       "      <th>3</th>\n",
       "      <td>00024acbcdf0a6daa1e931b038114c75</td>\n",
       "      <td>1</td>\n",
       "      <td>7634da152a4610f1595efa32f14722fc</td>\n",
       "      <td>9d7a1d34a5052409006425275ba1c2b4</td>\n",
       "      <td>2018-08-15 10:10:18</td>\n",
       "      <td>12.99</td>\n",
       "      <td>12.79</td>\n",
       "    </tr>\n",
       "    <tr>\n",
       "      <th>4</th>\n",
       "      <td>00042b26cf59d7ce69dfabb4e55b4fd9</td>\n",
       "      <td>1</td>\n",
       "      <td>ac6c3623068f30de03045865e4e10089</td>\n",
       "      <td>df560393f3a51e74553ab94004ba5c87</td>\n",
       "      <td>2017-02-13 13:57:51</td>\n",
       "      <td>199.90</td>\n",
       "      <td>18.14</td>\n",
       "    </tr>\n",
       "  </tbody>\n",
       "</table>\n",
       "</div>"
      ],
      "text/plain": [
       "                           order_id  order_item_id  \\\n",
       "0  00010242fe8c5a6d1ba2dd792cb16214              1   \n",
       "1  00018f77f2f0320c557190d7a144bdd3              1   \n",
       "2  000229ec398224ef6ca0657da4fc703e              1   \n",
       "3  00024acbcdf0a6daa1e931b038114c75              1   \n",
       "4  00042b26cf59d7ce69dfabb4e55b4fd9              1   \n",
       "\n",
       "                         product_id                         seller_id  \\\n",
       "0  4244733e06e7ecb4970a6e2683c13e61  48436dade18ac8b2bce089ec2a041202   \n",
       "1  e5f2d52b802189ee658865ca93d83a8f  dd7ddc04e1b6c2c614352b383efe2d36   \n",
       "2  c777355d18b72b67abbeef9df44fd0fd  5b51032eddd242adc84c38acab88f23d   \n",
       "3  7634da152a4610f1595efa32f14722fc  9d7a1d34a5052409006425275ba1c2b4   \n",
       "4  ac6c3623068f30de03045865e4e10089  df560393f3a51e74553ab94004ba5c87   \n",
       "\n",
       "   shipping_limit_date   price  freight_value  \n",
       "0  2017-09-19 09:45:35   58.90          13.29  \n",
       "1  2017-05-03 11:05:13  239.90          19.93  \n",
       "2  2018-01-18 14:48:30  199.00          17.87  \n",
       "3  2018-08-15 10:10:18   12.99          12.79  \n",
       "4  2017-02-13 13:57:51  199.90          18.14  "
      ]
     },
     "execution_count": 6,
     "metadata": {},
     "output_type": "execute_result"
    }
   ],
   "source": [
    "oitems_df = pd.read_csv('C:/Users/aniqo/Projects/Submission/data/order_items_dataset.csv')\n",
    "oitems_df.head()"
   ]
  },
  {
   "cell_type": "markdown",
   "metadata": {},
   "source": [
    "**Insight:**\n",
    "- order_id is a unique identifier of the order.\n",
    "- order_item_id is a sequential number identifying number of items included in the same order.\n",
    "- product_id is the key to the products dataset.\n",
    "- seller_id is the key to the sellers dataset.\n",
    "- shipping_limit_date shows the seller shipping limit date for handling the order over to the logistic partner.\n",
    "- price refrenece to the item price.\n",
    "- freight_value reference to the freight value (if an order has more than one item the freight value is splitted between items)."
   ]
  },
  {
   "cell_type": "markdown",
   "metadata": {},
   "source": [
    "#### Order Payments Dataset"
   ]
  },
  {
   "cell_type": "code",
   "execution_count": 7,
   "metadata": {},
   "outputs": [
    {
     "data": {
      "text/html": [
       "<div>\n",
       "<style scoped>\n",
       "    .dataframe tbody tr th:only-of-type {\n",
       "        vertical-align: middle;\n",
       "    }\n",
       "\n",
       "    .dataframe tbody tr th {\n",
       "        vertical-align: top;\n",
       "    }\n",
       "\n",
       "    .dataframe thead th {\n",
       "        text-align: right;\n",
       "    }\n",
       "</style>\n",
       "<table border=\"1\" class=\"dataframe\">\n",
       "  <thead>\n",
       "    <tr style=\"text-align: right;\">\n",
       "      <th></th>\n",
       "      <th>order_id</th>\n",
       "      <th>payment_sequential</th>\n",
       "      <th>payment_type</th>\n",
       "      <th>payment_installments</th>\n",
       "      <th>payment_value</th>\n",
       "    </tr>\n",
       "  </thead>\n",
       "  <tbody>\n",
       "    <tr>\n",
       "      <th>0</th>\n",
       "      <td>b81ef226f3fe1789b1e8b2acac839d17</td>\n",
       "      <td>1</td>\n",
       "      <td>credit_card</td>\n",
       "      <td>8</td>\n",
       "      <td>99.33</td>\n",
       "    </tr>\n",
       "    <tr>\n",
       "      <th>1</th>\n",
       "      <td>a9810da82917af2d9aefd1278f1dcfa0</td>\n",
       "      <td>1</td>\n",
       "      <td>credit_card</td>\n",
       "      <td>1</td>\n",
       "      <td>24.39</td>\n",
       "    </tr>\n",
       "    <tr>\n",
       "      <th>2</th>\n",
       "      <td>25e8ea4e93396b6fa0d3dd708e76c1bd</td>\n",
       "      <td>1</td>\n",
       "      <td>credit_card</td>\n",
       "      <td>1</td>\n",
       "      <td>65.71</td>\n",
       "    </tr>\n",
       "    <tr>\n",
       "      <th>3</th>\n",
       "      <td>ba78997921bbcdc1373bb41e913ab953</td>\n",
       "      <td>1</td>\n",
       "      <td>credit_card</td>\n",
       "      <td>8</td>\n",
       "      <td>107.78</td>\n",
       "    </tr>\n",
       "    <tr>\n",
       "      <th>4</th>\n",
       "      <td>42fdf880ba16b47b59251dd489d4441a</td>\n",
       "      <td>1</td>\n",
       "      <td>credit_card</td>\n",
       "      <td>2</td>\n",
       "      <td>128.45</td>\n",
       "    </tr>\n",
       "  </tbody>\n",
       "</table>\n",
       "</div>"
      ],
      "text/plain": [
       "                           order_id  payment_sequential payment_type  \\\n",
       "0  b81ef226f3fe1789b1e8b2acac839d17                   1  credit_card   \n",
       "1  a9810da82917af2d9aefd1278f1dcfa0                   1  credit_card   \n",
       "2  25e8ea4e93396b6fa0d3dd708e76c1bd                   1  credit_card   \n",
       "3  ba78997921bbcdc1373bb41e913ab953                   1  credit_card   \n",
       "4  42fdf880ba16b47b59251dd489d4441a                   1  credit_card   \n",
       "\n",
       "   payment_installments  payment_value  \n",
       "0                     8          99.33  \n",
       "1                     1          24.39  \n",
       "2                     1          65.71  \n",
       "3                     8         107.78  \n",
       "4                     2         128.45  "
      ]
     },
     "execution_count": 7,
     "metadata": {},
     "output_type": "execute_result"
    }
   ],
   "source": [
    "opayments_df = pd.read_csv('C:/Users/aniqo/Projects/Submission/data/order_payments_dataset.csv')\n",
    "opayments_df.head()"
   ]
  },
  {
   "cell_type": "markdown",
   "metadata": {},
   "source": [
    "**Insight:**\n",
    "- order_id is a key to the orders dataset.\n",
    "- payment_sequential, a customer may pay an order with more than one payment method. If he does so, a sequence will be created to.\n",
    "- payment_type reference to the method of payment chosen by the customer.\n",
    "- payment_installments is a number of installments chosen by the customer.\n",
    "- payment_value reference to transaction value."
   ]
  },
  {
   "cell_type": "markdown",
   "metadata": {},
   "source": [
    "#### Order Reviews Dataset"
   ]
  },
  {
   "cell_type": "code",
   "execution_count": 8,
   "metadata": {},
   "outputs": [
    {
     "data": {
      "text/html": [
       "<div>\n",
       "<style scoped>\n",
       "    .dataframe tbody tr th:only-of-type {\n",
       "        vertical-align: middle;\n",
       "    }\n",
       "\n",
       "    .dataframe tbody tr th {\n",
       "        vertical-align: top;\n",
       "    }\n",
       "\n",
       "    .dataframe thead th {\n",
       "        text-align: right;\n",
       "    }\n",
       "</style>\n",
       "<table border=\"1\" class=\"dataframe\">\n",
       "  <thead>\n",
       "    <tr style=\"text-align: right;\">\n",
       "      <th></th>\n",
       "      <th>review_id</th>\n",
       "      <th>order_id</th>\n",
       "      <th>review_score</th>\n",
       "      <th>review_comment_title</th>\n",
       "      <th>review_comment_message</th>\n",
       "      <th>review_creation_date</th>\n",
       "      <th>review_answer_timestamp</th>\n",
       "    </tr>\n",
       "  </thead>\n",
       "  <tbody>\n",
       "    <tr>\n",
       "      <th>0</th>\n",
       "      <td>7bc2406110b926393aa56f80a40eba40</td>\n",
       "      <td>73fc7af87114b39712e6da79b0a377eb</td>\n",
       "      <td>4</td>\n",
       "      <td>NaN</td>\n",
       "      <td>NaN</td>\n",
       "      <td>2018-01-18 00:00:00</td>\n",
       "      <td>2018-01-18 21:46:59</td>\n",
       "    </tr>\n",
       "    <tr>\n",
       "      <th>1</th>\n",
       "      <td>80e641a11e56f04c1ad469d5645fdfde</td>\n",
       "      <td>a548910a1c6147796b98fdf73dbeba33</td>\n",
       "      <td>5</td>\n",
       "      <td>NaN</td>\n",
       "      <td>NaN</td>\n",
       "      <td>2018-03-10 00:00:00</td>\n",
       "      <td>2018-03-11 03:05:13</td>\n",
       "    </tr>\n",
       "    <tr>\n",
       "      <th>2</th>\n",
       "      <td>228ce5500dc1d8e020d8d1322874b6f0</td>\n",
       "      <td>f9e4b658b201a9f2ecdecbb34bed034b</td>\n",
       "      <td>5</td>\n",
       "      <td>NaN</td>\n",
       "      <td>NaN</td>\n",
       "      <td>2018-02-17 00:00:00</td>\n",
       "      <td>2018-02-18 14:36:24</td>\n",
       "    </tr>\n",
       "    <tr>\n",
       "      <th>3</th>\n",
       "      <td>e64fb393e7b32834bb789ff8bb30750e</td>\n",
       "      <td>658677c97b385a9be170737859d3511b</td>\n",
       "      <td>5</td>\n",
       "      <td>NaN</td>\n",
       "      <td>Recebi bem antes do prazo estipulado.</td>\n",
       "      <td>2017-04-21 00:00:00</td>\n",
       "      <td>2017-04-21 22:02:06</td>\n",
       "    </tr>\n",
       "    <tr>\n",
       "      <th>4</th>\n",
       "      <td>f7c4243c7fe1938f181bec41a392bdeb</td>\n",
       "      <td>8e6bfb81e283fa7e4f11123a3fb894f1</td>\n",
       "      <td>5</td>\n",
       "      <td>NaN</td>\n",
       "      <td>Parabéns lojas lannister adorei comprar pela I...</td>\n",
       "      <td>2018-03-01 00:00:00</td>\n",
       "      <td>2018-03-02 10:26:53</td>\n",
       "    </tr>\n",
       "  </tbody>\n",
       "</table>\n",
       "</div>"
      ],
      "text/plain": [
       "                          review_id                          order_id  \\\n",
       "0  7bc2406110b926393aa56f80a40eba40  73fc7af87114b39712e6da79b0a377eb   \n",
       "1  80e641a11e56f04c1ad469d5645fdfde  a548910a1c6147796b98fdf73dbeba33   \n",
       "2  228ce5500dc1d8e020d8d1322874b6f0  f9e4b658b201a9f2ecdecbb34bed034b   \n",
       "3  e64fb393e7b32834bb789ff8bb30750e  658677c97b385a9be170737859d3511b   \n",
       "4  f7c4243c7fe1938f181bec41a392bdeb  8e6bfb81e283fa7e4f11123a3fb894f1   \n",
       "\n",
       "   review_score review_comment_title  \\\n",
       "0             4                  NaN   \n",
       "1             5                  NaN   \n",
       "2             5                  NaN   \n",
       "3             5                  NaN   \n",
       "4             5                  NaN   \n",
       "\n",
       "                              review_comment_message review_creation_date  \\\n",
       "0                                                NaN  2018-01-18 00:00:00   \n",
       "1                                                NaN  2018-03-10 00:00:00   \n",
       "2                                                NaN  2018-02-17 00:00:00   \n",
       "3              Recebi bem antes do prazo estipulado.  2017-04-21 00:00:00   \n",
       "4  Parabéns lojas lannister adorei comprar pela I...  2018-03-01 00:00:00   \n",
       "\n",
       "  review_answer_timestamp  \n",
       "0     2018-01-18 21:46:59  \n",
       "1     2018-03-11 03:05:13  \n",
       "2     2018-02-18 14:36:24  \n",
       "3     2017-04-21 22:02:06  \n",
       "4     2018-03-02 10:26:53  "
      ]
     },
     "execution_count": 8,
     "metadata": {},
     "output_type": "execute_result"
    }
   ],
   "source": [
    "oreviews_df = pd.read_csv('C:/Users/aniqo/Projects/Submission/data/order_reviews_dataset.csv')\n",
    "oreviews_df.head()"
   ]
  },
  {
   "cell_type": "markdown",
   "metadata": {},
   "source": [
    "**Insight:**\n",
    "- review_id is a unique identifier for each review.\n",
    "- order_id is the key to the orders dataset.\n",
    "- review_score reference to customer satisfaction level, from 1-5.\n",
    "- review_comment_title is a comment title from the review left by the customer, in Portuguese.\n",
    "- review_comment_message is a comment message from the review left by the customer, in Portuguese.\n",
    "- review_creation_date shows the date in which the satisfaction survey was sent to the customer.\n",
    "- review_answer_timestamp shows satisfaction survey answer timestamp."
   ]
  },
  {
   "cell_type": "markdown",
   "metadata": {
    "id": "FHSiqaZp8DC1"
   },
   "source": [
    "### Assessing Data"
   ]
  },
  {
   "cell_type": "markdown",
   "metadata": {},
   "source": [
    "#### Customers Dataset"
   ]
  },
  {
   "cell_type": "code",
   "execution_count": 9,
   "metadata": {
    "id": "ax-3tEjc9Cj1"
   },
   "outputs": [
    {
     "name": "stdout",
     "output_type": "stream",
     "text": [
      "<class 'pandas.core.frame.DataFrame'>\n",
      "RangeIndex: 99441 entries, 0 to 99440\n",
      "Data columns (total 5 columns):\n",
      " #   Column                    Non-Null Count  Dtype \n",
      "---  ------                    --------------  ----- \n",
      " 0   customer_id               99441 non-null  object\n",
      " 1   customer_unique_id        99441 non-null  object\n",
      " 2   customer_zip_code_prefix  99441 non-null  int64 \n",
      " 3   customer_city             99441 non-null  object\n",
      " 4   customer_state            99441 non-null  object\n",
      "dtypes: int64(1), object(4)\n",
      "memory usage: 3.8+ MB\n"
     ]
    }
   ],
   "source": [
    "# identify number of rows and columns, data types\n",
    "customers_df.info()"
   ]
  },
  {
   "cell_type": "code",
   "execution_count": 10,
   "metadata": {},
   "outputs": [
    {
     "data": {
      "text/plain": [
       "customer_id                 0\n",
       "customer_unique_id          0\n",
       "customer_zip_code_prefix    0\n",
       "customer_city               0\n",
       "customer_state              0\n",
       "dtype: int64"
      ]
     },
     "execution_count": 10,
     "metadata": {},
     "output_type": "execute_result"
    }
   ],
   "source": [
    "# identify missing values \n",
    "customers_df.isna().sum()"
   ]
  },
  {
   "cell_type": "code",
   "execution_count": 11,
   "metadata": {},
   "outputs": [
    {
     "data": {
      "text/plain": [
       "0"
      ]
     },
     "execution_count": 11,
     "metadata": {},
     "output_type": "execute_result"
    }
   ],
   "source": [
    "# identify data duplicate\n",
    "customers_df.duplicated().sum()"
   ]
  },
  {
   "cell_type": "code",
   "execution_count": 12,
   "metadata": {},
   "outputs": [
    {
     "data": {
      "image/png": "[encoded data removed]",
      "text/plain": [
       "<Figure size 400x400 with 1 Axes>"
      ]
     },
     "metadata": {},
     "output_type": "display_data"
    }
   ],
   "source": [
    "# identify outliers\n",
    "plt.figure(figsize=(4,4))\n",
    "plt.boxplot(customers_df.select_dtypes(include='number'))\n",
    "plt.title(\"Numerical Variable Distribution\")\n",
    "plt.show()"
   ]
  },
  {
   "cell_type": "markdown",
   "metadata": {
    "id": "7dtxhAPrkhPL"
   },
   "source": [
    "**Insight :** Customer dataset does not contain missing values, duplicate data, and outlier data."
   ]
  },
  {
   "cell_type": "markdown",
   "metadata": {},
   "source": [
    "#### Orders Dataset"
   ]
  },
  {
   "cell_type": "code",
   "execution_count": 13,
   "metadata": {},
   "outputs": [
    {
     "name": "stdout",
     "output_type": "stream",
     "text": [
      "<class 'pandas.core.frame.DataFrame'>\n",
      "RangeIndex: 99441 entries, 0 to 99440\n",
      "Data columns (total 8 columns):\n",
      " #   Column                         Non-Null Count  Dtype \n",
      "---  ------                         --------------  ----- \n",
      " 0   order_id                       99441 non-null  object\n",
      " 1   customer_id                    99441 non-null  object\n",
      " 2   order_status                   99441 non-null  object\n",
      " 3   order_purchase_timestamp       99441 non-null  object\n",
      " 4   order_approved_at              99281 non-null  object\n",
      " 5   order_delivered_carrier_date   97658 non-null  object\n",
      " 6   order_delivered_customer_date  96476 non-null  object\n",
      " 7   order_estimated_delivery_date  99441 non-null  object\n",
      "dtypes: object(8)\n",
      "memory usage: 6.1+ MB\n"
     ]
    }
   ],
   "source": [
    "# identify number of rows and columns, data types\n",
    "orders_df.info()"
   ]
  },
  {
   "cell_type": "code",
   "execution_count": 14,
   "metadata": {},
   "outputs": [
    {
     "name": "stdout",
     "output_type": "stream",
     "text": [
      "order_id                                 object\n",
      "customer_id                              object\n",
      "order_status                             object\n",
      "order_purchase_timestamp         datetime64[ns]\n",
      "order_approved_at                datetime64[ns]\n",
      "order_delivered_carrier_date     datetime64[ns]\n",
      "order_delivered_customer_date    datetime64[ns]\n",
      "order_estimated_delivery_date    datetime64[ns]\n",
      "dtype: object\n"
     ]
    }
   ],
   "source": [
    "# converts the data type of the object to date-time\n",
    "date_time_columns = ['order_purchase_timestamp', 'order_approved_at', 'order_delivered_carrier_date',\n",
    "                 'order_delivered_customer_date', 'order_estimated_delivery_date']\n",
    "\n",
    "for column in date_time_columns:\n",
    "    orders_df[column] = pd.to_datetime(orders_df[column], format='%Y-%m-%d %H:%M:%S')    \n",
    "\n",
    "print(orders_df.dtypes)"
   ]
  },
  {
   "cell_type": "code",
   "execution_count": 15,
   "metadata": {},
   "outputs": [
    {
     "data": {
      "text/plain": [
       "order_id                            0\n",
       "customer_id                         0\n",
       "order_status                        0\n",
       "order_purchase_timestamp            0\n",
       "order_approved_at                 160\n",
       "order_delivered_carrier_date     1783\n",
       "order_delivered_customer_date    2965\n",
       "order_estimated_delivery_date       0\n",
       "dtype: int64"
      ]
     },
     "execution_count": 15,
     "metadata": {},
     "output_type": "execute_result"
    }
   ],
   "source": [
    "# identify missing values \n",
    "orders_df.isna().sum()"
   ]
  },
  {
   "cell_type": "code",
   "execution_count": 16,
   "metadata": {},
   "outputs": [
    {
     "data": {
      "text/plain": [
       "0"
      ]
     },
     "execution_count": 16,
     "metadata": {},
     "output_type": "execute_result"
    }
   ],
   "source": [
    "# identify data duplicate\n",
    "orders_df.duplicated().sum()"
   ]
  },
  {
   "cell_type": "markdown",
   "metadata": {},
   "source": [
    "**Insight:** Orders dataset does not contain duplicate data but 3 features contain missing values."
   ]
  },
  {
   "cell_type": "markdown",
   "metadata": {},
   "source": [
    "#### Products Dataset"
   ]
  },
  {
   "cell_type": "code",
   "execution_count": 17,
   "metadata": {},
   "outputs": [
    {
     "name": "stdout",
     "output_type": "stream",
     "text": [
      "<class 'pandas.core.frame.DataFrame'>\n",
      "RangeIndex: 32951 entries, 0 to 32950\n",
      "Data columns (total 9 columns):\n",
      " #   Column                      Non-Null Count  Dtype  \n",
      "---  ------                      --------------  -----  \n",
      " 0   product_id                  32951 non-null  object \n",
      " 1   product_category_name       32341 non-null  object \n",
      " 2   product_name_lenght         32341 non-null  float64\n",
      " 3   product_description_lenght  32341 non-null  float64\n",
      " 4   product_photos_qty          32341 non-null  float64\n",
      " 5   product_weight_g            32949 non-null  float64\n",
      " 6   product_length_cm           32949 non-null  float64\n",
      " 7   product_height_cm           32949 non-null  float64\n",
      " 8   product_width_cm            32949 non-null  float64\n",
      "dtypes: float64(7), object(2)\n",
      "memory usage: 2.3+ MB\n"
     ]
    }
   ],
   "source": [
    "# identify number of rows and columns, data types\n",
    "products_df.info()"
   ]
  },
  {
   "cell_type": "code",
   "execution_count": 18,
   "metadata": {},
   "outputs": [
    {
     "data": {
      "text/plain": [
       "product_id                      0\n",
       "product_category_name         610\n",
       "product_name_lenght           610\n",
       "product_description_lenght    610\n",
       "product_photos_qty            610\n",
       "product_weight_g                2\n",
       "product_length_cm               2\n",
       "product_height_cm               2\n",
       "product_width_cm                2\n",
       "dtype: int64"
      ]
     },
     "execution_count": 18,
     "metadata": {},
     "output_type": "execute_result"
    }
   ],
   "source": [
    "# identify missing values  \n",
    "products_df.isna().sum()"
   ]
  },
  {
   "cell_type": "code",
   "execution_count": 19,
   "metadata": {},
   "outputs": [
    {
     "data": {
      "text/plain": [
       "0"
      ]
     },
     "execution_count": 19,
     "metadata": {},
     "output_type": "execute_result"
    }
   ],
   "source": [
    "# identify data duplicate\n",
    "products_df.duplicated().sum()"
   ]
  },
  {
   "cell_type": "code",
   "execution_count": 20,
   "metadata": {},
   "outputs": [
    {
     "data": {
      "image/png": "[encoded data removed]",
      "text/plain": [
       "<Figure size 400x400 with 1 Axes>"
      ]
     },
     "metadata": {},
     "output_type": "display_data"
    }
   ],
   "source": [
    "# identify outliers\n",
    "plt.figure(figsize=(4,4))\n",
    "plt.boxplot(products_df.select_dtypes(include='number'))\n",
    "plt.title(\"Numerical Variable Distribution\")\n",
    "plt.show()"
   ]
  },
  {
   "cell_type": "markdown",
   "metadata": {},
   "source": [
    "**Insight:** Products dataset does not contain duplicate data but 8 features contain missing values."
   ]
  },
  {
   "cell_type": "markdown",
   "metadata": {},
   "source": [
    "#### Product Category Name Translation Dataset"
   ]
  },
  {
   "cell_type": "code",
   "execution_count": 21,
   "metadata": {},
   "outputs": [
    {
     "name": "stdout",
     "output_type": "stream",
     "text": [
      "<class 'pandas.core.frame.DataFrame'>\n",
      "RangeIndex: 71 entries, 0 to 70\n",
      "Data columns (total 2 columns):\n",
      " #   Column                         Non-Null Count  Dtype \n",
      "---  ------                         --------------  ----- \n",
      " 0   product_category_name          71 non-null     object\n",
      " 1   product_category_name_english  71 non-null     object\n",
      "dtypes: object(2)\n",
      "memory usage: 1.2+ KB\n"
     ]
    }
   ],
   "source": [
    "# identify number of rows and columns, data types\n",
    "product_category_name_t_df.info()"
   ]
  },
  {
   "cell_type": "code",
   "execution_count": 22,
   "metadata": {},
   "outputs": [
    {
     "data": {
      "text/plain": [
       "product_category_name            0\n",
       "product_category_name_english    0\n",
       "dtype: int64"
      ]
     },
     "execution_count": 22,
     "metadata": {},
     "output_type": "execute_result"
    }
   ],
   "source": [
    "# identify missing values\n",
    "product_category_name_t_df.isna().sum()"
   ]
  },
  {
   "cell_type": "code",
   "execution_count": 23,
   "metadata": {},
   "outputs": [
    {
     "data": {
      "text/plain": [
       "0"
      ]
     },
     "execution_count": 23,
     "metadata": {},
     "output_type": "execute_result"
    }
   ],
   "source": [
    "# identify data duplicate\n",
    "product_category_name_t_df.duplicated().sum()"
   ]
  },
  {
   "cell_type": "markdown",
   "metadata": {},
   "source": [
    "**Insight:**\n",
    "Product category name translation dataset does not contain missing values and duplicate data."
   ]
  },
  {
   "cell_type": "markdown",
   "metadata": {},
   "source": [
    "#### Order Items Dataset"
   ]
  },
  {
   "cell_type": "code",
   "execution_count": 24,
   "metadata": {},
   "outputs": [
    {
     "name": "stdout",
     "output_type": "stream",
     "text": [
      "<class 'pandas.core.frame.DataFrame'>\n",
      "RangeIndex: 112650 entries, 0 to 112649\n",
      "Data columns (total 7 columns):\n",
      " #   Column               Non-Null Count   Dtype  \n",
      "---  ------               --------------   -----  \n",
      " 0   order_id             112650 non-null  object \n",
      " 1   order_item_id        112650 non-null  int64  \n",
      " 2   product_id           112650 non-null  object \n",
      " 3   seller_id            112650 non-null  object \n",
      " 4   shipping_limit_date  112650 non-null  object \n",
      " 5   price                112650 non-null  float64\n",
      " 6   freight_value        112650 non-null  float64\n",
      "dtypes: float64(2), int64(1), object(4)\n",
      "memory usage: 6.0+ MB\n"
     ]
    }
   ],
   "source": [
    "# identify number of rows and columns, data types\n",
    "oitems_df.info()"
   ]
  },
  {
   "cell_type": "code",
   "execution_count": 25,
   "metadata": {},
   "outputs": [
    {
     "name": "stdout",
     "output_type": "stream",
     "text": [
      "order_id                       object\n",
      "order_item_id                   int64\n",
      "product_id                     object\n",
      "seller_id                      object\n",
      "shipping_limit_date    datetime64[ns]\n",
      "price                         float64\n",
      "freight_value                 float64\n",
      "dtype: object\n"
     ]
    }
   ],
   "source": [
    "# converts the data type of the object to date-time\n",
    "oitems_df['shipping_limit_date'] = pd.to_datetime(oitems_df['shipping_limit_date'], format='%Y-%m-%d %H:%M:%S')\n",
    "print(oitems_df.dtypes)"
   ]
  },
  {
   "cell_type": "code",
   "execution_count": 26,
   "metadata": {},
   "outputs": [
    {
     "data": {
      "text/plain": [
       "order_id               0\n",
       "order_item_id          0\n",
       "product_id             0\n",
       "seller_id              0\n",
       "shipping_limit_date    0\n",
       "price                  0\n",
       "freight_value          0\n",
       "dtype: int64"
      ]
     },
     "execution_count": 26,
     "metadata": {},
     "output_type": "execute_result"
    }
   ],
   "source": [
    "# identify missing values\n",
    "oitems_df.isna().sum()"
   ]
  },
  {
   "cell_type": "code",
   "execution_count": 27,
   "metadata": {},
   "outputs": [
    {
     "data": {
      "text/plain": [
       "0"
      ]
     },
     "execution_count": 27,
     "metadata": {},
     "output_type": "execute_result"
    }
   ],
   "source": [
    "# identify data duplicate\n",
    "oitems_df.duplicated().sum()"
   ]
  },
  {
   "cell_type": "code",
   "execution_count": 28,
   "metadata": {},
   "outputs": [
    {
     "data": {
      "image/png": "[encoded data removed]",
      "text/plain": [
       "<Figure size 400x400 with 1 Axes>"
      ]
     },
     "metadata": {},
     "output_type": "display_data"
    }
   ],
   "source": [
    "# identify outliers\n",
    "plt.figure(figsize=(4,4))\n",
    "plt.boxplot(oitems_df.select_dtypes(include='number'))\n",
    "plt.title(\"Order Item Id Distribution\")\n",
    "plt.show()"
   ]
  },
  {
   "cell_type": "markdown",
   "metadata": {},
   "source": [
    "**Insight:** Order items dataset does not contain missing values and duplicate data, but 3 features contain outliers."
   ]
  },
  {
   "cell_type": "markdown",
   "metadata": {},
   "source": [
    "#### Order Payments Dataset"
   ]
  },
  {
   "cell_type": "code",
   "execution_count": 29,
   "metadata": {},
   "outputs": [
    {
     "name": "stdout",
     "output_type": "stream",
     "text": [
      "<class 'pandas.core.frame.DataFrame'>\n",
      "RangeIndex: 103886 entries, 0 to 103885\n",
      "Data columns (total 5 columns):\n",
      " #   Column                Non-Null Count   Dtype  \n",
      "---  ------                --------------   -----  \n",
      " 0   order_id              103886 non-null  object \n",
      " 1   payment_sequential    103886 non-null  int64  \n",
      " 2   payment_type          103886 non-null  object \n",
      " 3   payment_installments  103886 non-null  int64  \n",
      " 4   payment_value         103886 non-null  float64\n",
      "dtypes: float64(1), int64(2), object(2)\n",
      "memory usage: 4.0+ MB\n"
     ]
    }
   ],
   "source": [
    "# identify number of rows and columns, data types\n",
    "opayments_df.info()"
   ]
  },
  {
   "cell_type": "code",
   "execution_count": 30,
   "metadata": {},
   "outputs": [
    {
     "data": {
      "text/plain": [
       "order_id                0\n",
       "payment_sequential      0\n",
       "payment_type            0\n",
       "payment_installments    0\n",
       "payment_value           0\n",
       "dtype: int64"
      ]
     },
     "execution_count": 30,
     "metadata": {},
     "output_type": "execute_result"
    }
   ],
   "source": [
    "# identify missing values\n",
    "opayments_df.isna().sum()"
   ]
  },
  {
   "cell_type": "code",
   "execution_count": 31,
   "metadata": {},
   "outputs": [
    {
     "data": {
      "text/plain": [
       "0"
      ]
     },
     "execution_count": 31,
     "metadata": {},
     "output_type": "execute_result"
    }
   ],
   "source": [
    "# identify data duplicate\n",
    "opayments_df.duplicated().sum()"
   ]
  },
  {
   "cell_type": "code",
   "execution_count": 32,
   "metadata": {},
   "outputs": [
    {
     "data": {
      "image/png": "[encoded data removed]",
      "text/plain": [
       "<Figure size 400x400 with 1 Axes>"
      ]
     },
     "metadata": {},
     "output_type": "display_data"
    }
   ],
   "source": [
    "# identify outliers\n",
    "plt.figure(figsize=(4,4))\n",
    "plt.boxplot(opayments_df.select_dtypes(include='number'))\n",
    "plt.title(\"Order Item Id Distribution\")\n",
    "plt.show()"
   ]
  },
  {
   "cell_type": "markdown",
   "metadata": {},
   "source": [
    "**Insight:** Order payments dataset does not contain missing values and duplicate data, but 3 features contain outliers."
   ]
  },
  {
   "cell_type": "markdown",
   "metadata": {},
   "source": [
    "#### Order Reviews Dataset"
   ]
  },
  {
   "cell_type": "code",
   "execution_count": 33,
   "metadata": {},
   "outputs": [
    {
     "name": "stdout",
     "output_type": "stream",
     "text": [
      "<class 'pandas.core.frame.DataFrame'>\n",
      "RangeIndex: 99224 entries, 0 to 99223\n",
      "Data columns (total 7 columns):\n",
      " #   Column                   Non-Null Count  Dtype \n",
      "---  ------                   --------------  ----- \n",
      " 0   review_id                99224 non-null  object\n",
      " 1   order_id                 99224 non-null  object\n",
      " 2   review_score             99224 non-null  int64 \n",
      " 3   review_comment_title     11568 non-null  object\n",
      " 4   review_comment_message   40977 non-null  object\n",
      " 5   review_creation_date     99224 non-null  object\n",
      " 6   review_answer_timestamp  99224 non-null  object\n",
      "dtypes: int64(1), object(6)\n",
      "memory usage: 5.3+ MB\n"
     ]
    }
   ],
   "source": [
    "# identify number of rows and columns, data types\n",
    "oreviews_df.info()"
   ]
  },
  {
   "cell_type": "code",
   "execution_count": 34,
   "metadata": {},
   "outputs": [
    {
     "name": "stdout",
     "output_type": "stream",
     "text": [
      "review_id                          object\n",
      "order_id                           object\n",
      "review_score                        int64\n",
      "review_comment_title               object\n",
      "review_comment_message             object\n",
      "review_creation_date       datetime64[ns]\n",
      "review_answer_timestamp    datetime64[ns]\n",
      "dtype: object\n"
     ]
    }
   ],
   "source": [
    "# converts the data type of the object to date-time\n",
    "date_time_columns = ['review_creation_date', 'review_answer_timestamp']\n",
    "\n",
    "for column in date_time_columns:\n",
    "    oreviews_df[column] = pd.to_datetime(oreviews_df[column], format='%Y-%m-%d %H:%M:%S')\n",
    "\n",
    "print(oreviews_df.dtypes)"
   ]
  },
  {
   "cell_type": "code",
   "execution_count": 35,
   "metadata": {},
   "outputs": [
    {
     "data": {
      "text/plain": [
       "review_id                      0\n",
       "order_id                       0\n",
       "review_score                   0\n",
       "review_comment_title       87656\n",
       "review_comment_message     58247\n",
       "review_creation_date           0\n",
       "review_answer_timestamp        0\n",
       "dtype: int64"
      ]
     },
     "execution_count": 35,
     "metadata": {},
     "output_type": "execute_result"
    }
   ],
   "source": [
    "# identify missing values\n",
    "oreviews_df.isna().sum()"
   ]
  },
  {
   "cell_type": "code",
   "execution_count": 36,
   "metadata": {},
   "outputs": [
    {
     "data": {
      "text/plain": [
       "0"
      ]
     },
     "execution_count": 36,
     "metadata": {},
     "output_type": "execute_result"
    }
   ],
   "source": [
    "# identify data duplicate\n",
    "oreviews_df.duplicated().sum()"
   ]
  },
  {
   "cell_type": "code",
   "execution_count": 37,
   "metadata": {},
   "outputs": [
    {
     "data": {
      "image/png": "[encoded data removed]",
      "text/plain": [
       "<Figure size 400x400 with 1 Axes>"
      ]
     },
     "metadata": {},
     "output_type": "display_data"
    }
   ],
   "source": [
    "# identify outliers\n",
    "plt.figure(figsize=(4,4))\n",
    "plt.boxplot(oreviews_df.select_dtypes(include='number'))\n",
    "plt.title(\"Numerical Variable Distribution\")\n",
    "plt.show()"
   ]
  },
  {
   "cell_type": "markdown",
   "metadata": {},
   "source": [
    "**Insight:** Order reviews dataset does not contain duplicate data, but 2 features contain missing values and 1 feature contain outliers."
   ]
  },
  {
   "cell_type": "markdown",
   "metadata": {
    "id": "EhN5R4hr8DC1"
   },
   "source": [
    "### Cleaning Data"
   ]
  },
  {
   "cell_type": "markdown",
   "metadata": {},
   "source": [
    "#### Orders Dataset"
   ]
  },
  {
   "cell_type": "code",
   "execution_count": 38,
   "metadata": {
    "id": "jVnYpprE9Evz"
   },
   "outputs": [],
   "source": [
    "# handle missing values with interpolation method\n",
    "orders_df['order_approved_at'].fillna(method='ffill', inplace=True)\n",
    "orders_df['order_delivered_carrier_date'].fillna(method='ffill', inplace=True)\n",
    "orders_df['order_delivered_customer_date'].fillna(method='bfill', inplace=True)"
   ]
  },
  {
   "cell_type": "code",
   "execution_count": 39,
   "metadata": {},
   "outputs": [
    {
     "data": {
      "text/plain": [
       "order_id                         0\n",
       "customer_id                      0\n",
       "order_status                     0\n",
       "order_purchase_timestamp         0\n",
       "order_approved_at                0\n",
       "order_delivered_carrier_date     0\n",
       "order_delivered_customer_date    0\n",
       "order_estimated_delivery_date    0\n",
       "dtype: int64"
      ]
     },
     "execution_count": 39,
     "metadata": {},
     "output_type": "execute_result"
    }
   ],
   "source": [
    "# recheck missing value\n",
    "orders_df.isna().sum()"
   ]
  },
  {
   "cell_type": "markdown",
   "metadata": {},
   "source": [
    "**Insight:**\n",
    "Orders dataset does not contain missing values."
   ]
  },
  {
   "cell_type": "markdown",
   "metadata": {},
   "source": [
    "#### Products Dataset"
   ]
  },
  {
   "cell_type": "code",
   "execution_count": 40,
   "metadata": {},
   "outputs": [],
   "source": [
    "# handle missing values with 'NaN' or mean\n",
    "products_df['product_category_name'].fillna(value='NaN',inplace=True) \n",
    "columns_with_missing_values = ['product_name_lenght', 'product_description_lenght', 'product_photos_qty',\n",
    "                               'product_weight_g', 'product_length_cm', 'product_height_cm', 'product_width_cm']\n",
    "for col in columns_with_missing_values:\n",
    "    products_df[col].fillna(products_df[col].mean(), inplace=True)"
   ]
  },
  {
   "cell_type": "code",
   "execution_count": 41,
   "metadata": {},
   "outputs": [
    {
     "data": {
      "text/plain": [
       "product_id                    0\n",
       "product_category_name         0\n",
       "product_name_lenght           0\n",
       "product_description_lenght    0\n",
       "product_photos_qty            0\n",
       "product_weight_g              0\n",
       "product_length_cm             0\n",
       "product_height_cm             0\n",
       "product_width_cm              0\n",
       "dtype: int64"
      ]
     },
     "execution_count": 41,
     "metadata": {},
     "output_type": "execute_result"
    }
   ],
   "source": [
    "# recheck missing value\n",
    "products_df.isna().sum()"
   ]
  },
  {
   "cell_type": "markdown",
   "metadata": {},
   "source": [
    "**Insight:**\n",
    "Products dataset does not contain missing values."
   ]
  },
  {
   "cell_type": "markdown",
   "metadata": {},
   "source": [
    "#### Order Items Dataset"
   ]
  },
  {
   "cell_type": "code",
   "execution_count": 42,
   "metadata": {},
   "outputs": [
    {
     "data": {
      "text/html": [
       "<div>\n",
       "<style scoped>\n",
       "    .dataframe tbody tr th:only-of-type {\n",
       "        vertical-align: middle;\n",
       "    }\n",
       "\n",
       "    .dataframe tbody tr th {\n",
       "        vertical-align: top;\n",
       "    }\n",
       "\n",
       "    .dataframe thead th {\n",
       "        text-align: right;\n",
       "    }\n",
       "</style>\n",
       "<table border=\"1\" class=\"dataframe\">\n",
       "  <thead>\n",
       "    <tr style=\"text-align: right;\">\n",
       "      <th></th>\n",
       "      <th>order_item_id</th>\n",
       "      <th>price</th>\n",
       "      <th>freight_value</th>\n",
       "    </tr>\n",
       "  </thead>\n",
       "  <tbody>\n",
       "    <tr>\n",
       "      <th>count</th>\n",
       "      <td>112650.000000</td>\n",
       "      <td>112650.000000</td>\n",
       "      <td>112650.000000</td>\n",
       "    </tr>\n",
       "    <tr>\n",
       "      <th>mean</th>\n",
       "      <td>1.197834</td>\n",
       "      <td>120.653739</td>\n",
       "      <td>19.990320</td>\n",
       "    </tr>\n",
       "    <tr>\n",
       "      <th>std</th>\n",
       "      <td>0.705124</td>\n",
       "      <td>183.633928</td>\n",
       "      <td>15.806405</td>\n",
       "    </tr>\n",
       "    <tr>\n",
       "      <th>min</th>\n",
       "      <td>1.000000</td>\n",
       "      <td>0.850000</td>\n",
       "      <td>0.000000</td>\n",
       "    </tr>\n",
       "    <tr>\n",
       "      <th>25%</th>\n",
       "      <td>1.000000</td>\n",
       "      <td>39.900000</td>\n",
       "      <td>13.080000</td>\n",
       "    </tr>\n",
       "    <tr>\n",
       "      <th>50%</th>\n",
       "      <td>1.000000</td>\n",
       "      <td>74.990000</td>\n",
       "      <td>16.260000</td>\n",
       "    </tr>\n",
       "    <tr>\n",
       "      <th>75%</th>\n",
       "      <td>1.000000</td>\n",
       "      <td>134.900000</td>\n",
       "      <td>21.150000</td>\n",
       "    </tr>\n",
       "    <tr>\n",
       "      <th>max</th>\n",
       "      <td>21.000000</td>\n",
       "      <td>6735.000000</td>\n",
       "      <td>409.680000</td>\n",
       "    </tr>\n",
       "  </tbody>\n",
       "</table>\n",
       "</div>"
      ],
      "text/plain": [
       "       order_item_id          price  freight_value\n",
       "count  112650.000000  112650.000000  112650.000000\n",
       "mean        1.197834     120.653739      19.990320\n",
       "std         0.705124     183.633928      15.806405\n",
       "min         1.000000       0.850000       0.000000\n",
       "25%         1.000000      39.900000      13.080000\n",
       "50%         1.000000      74.990000      16.260000\n",
       "75%         1.000000     134.900000      21.150000\n",
       "max        21.000000    6735.000000     409.680000"
      ]
     },
     "execution_count": 42,
     "metadata": {},
     "output_type": "execute_result"
    }
   ],
   "source": [
    "# identify outliers more deeply to find out whether the outliers are a specific pattern or an error.\n",
    "# descriptive analysis\n",
    "oitems_df.describe()"
   ]
  },
  {
   "cell_type": "code",
   "execution_count": 43,
   "metadata": {},
   "outputs": [
    {
     "data": {
      "text/html": [
       "<div>\n",
       "<style scoped>\n",
       "    .dataframe tbody tr th:only-of-type {\n",
       "        vertical-align: middle;\n",
       "    }\n",
       "\n",
       "    .dataframe tbody tr th {\n",
       "        vertical-align: top;\n",
       "    }\n",
       "\n",
       "    .dataframe thead th {\n",
       "        text-align: right;\n",
       "    }\n",
       "</style>\n",
       "<table border=\"1\" class=\"dataframe\">\n",
       "  <thead>\n",
       "    <tr style=\"text-align: right;\">\n",
       "      <th></th>\n",
       "      <th>order_id</th>\n",
       "      <th>order_item_id</th>\n",
       "      <th>product_id</th>\n",
       "      <th>seller_id</th>\n",
       "      <th>shipping_limit_date</th>\n",
       "      <th>price</th>\n",
       "      <th>freight_value</th>\n",
       "    </tr>\n",
       "  </thead>\n",
       "  <tbody>\n",
       "    <tr>\n",
       "      <th>73486</th>\n",
       "      <td>a77e1550db865202c56b19ddc6dc4d53</td>\n",
       "      <td>1</td>\n",
       "      <td>ec31d2a17b299511e7c8627be9337b9b</td>\n",
       "      <td>257e61d3251fb5efb9daadddbc2cf7ca</td>\n",
       "      <td>2018-04-25 06:55:13</td>\n",
       "      <td>979.0</td>\n",
       "      <td>409.68</td>\n",
       "    </tr>\n",
       "  </tbody>\n",
       "</table>\n",
       "</div>"
      ],
      "text/plain": [
       "                               order_id  order_item_id  \\\n",
       "73486  a77e1550db865202c56b19ddc6dc4d53              1   \n",
       "\n",
       "                             product_id                         seller_id  \\\n",
       "73486  ec31d2a17b299511e7c8627be9337b9b  257e61d3251fb5efb9daadddbc2cf7ca   \n",
       "\n",
       "      shipping_limit_date  price  freight_value  \n",
       "73486 2018-04-25 06:55:13  979.0         409.68  "
      ]
     },
     "execution_count": 43,
     "metadata": {},
     "output_type": "execute_result"
    }
   ],
   "source": [
    "# take one sample of outlier data in the freight_value column \n",
    "# what product have a freight value > 400? \n",
    "oitems_df[oitems_df['freight_value'] > 400]"
   ]
  },
  {
   "cell_type": "code",
   "execution_count": 44,
   "metadata": {},
   "outputs": [
    {
     "data": {
      "text/html": [
       "<div>\n",
       "<style scoped>\n",
       "    .dataframe tbody tr th:only-of-type {\n",
       "        vertical-align: middle;\n",
       "    }\n",
       "\n",
       "    .dataframe tbody tr th {\n",
       "        vertical-align: top;\n",
       "    }\n",
       "\n",
       "    .dataframe thead th {\n",
       "        text-align: right;\n",
       "    }\n",
       "</style>\n",
       "<table border=\"1\" class=\"dataframe\">\n",
       "  <thead>\n",
       "    <tr style=\"text-align: right;\">\n",
       "      <th></th>\n",
       "      <th>product_id</th>\n",
       "      <th>product_category_name</th>\n",
       "      <th>product_name_lenght</th>\n",
       "      <th>product_description_lenght</th>\n",
       "      <th>product_photos_qty</th>\n",
       "      <th>product_weight_g</th>\n",
       "      <th>product_length_cm</th>\n",
       "      <th>product_height_cm</th>\n",
       "      <th>product_width_cm</th>\n",
       "    </tr>\n",
       "  </thead>\n",
       "  <tbody>\n",
       "    <tr>\n",
       "      <th>4142</th>\n",
       "      <td>ec31d2a17b299511e7c8627be9337b9b</td>\n",
       "      <td>bebes</td>\n",
       "      <td>44.0</td>\n",
       "      <td>385.0</td>\n",
       "      <td>6.0</td>\n",
       "      <td>14675.0</td>\n",
       "      <td>55.0</td>\n",
       "      <td>64.0</td>\n",
       "      <td>52.0</td>\n",
       "    </tr>\n",
       "  </tbody>\n",
       "</table>\n",
       "</div>"
      ],
      "text/plain": [
       "                            product_id product_category_name  \\\n",
       "4142  ec31d2a17b299511e7c8627be9337b9b                 bebes   \n",
       "\n",
       "      product_name_lenght  product_description_lenght  product_photos_qty  \\\n",
       "4142                 44.0                       385.0                 6.0   \n",
       "\n",
       "      product_weight_g  product_length_cm  product_height_cm  product_width_cm  \n",
       "4142           14675.0               55.0               64.0              52.0  "
      ]
     },
     "execution_count": 44,
     "metadata": {},
     "output_type": "execute_result"
    }
   ],
   "source": [
    "# check the product category\n",
    "products_df[products_df['product_id'] == 'ec31d2a17b299511e7c8627be9337b9b']"
   ]
  },
  {
   "cell_type": "code",
   "execution_count": 45,
   "metadata": {},
   "outputs": [
    {
     "data": {
      "text/html": [
       "<div>\n",
       "<style scoped>\n",
       "    .dataframe tbody tr th:only-of-type {\n",
       "        vertical-align: middle;\n",
       "    }\n",
       "\n",
       "    .dataframe tbody tr th {\n",
       "        vertical-align: top;\n",
       "    }\n",
       "\n",
       "    .dataframe thead th {\n",
       "        text-align: right;\n",
       "    }\n",
       "</style>\n",
       "<table border=\"1\" class=\"dataframe\">\n",
       "  <thead>\n",
       "    <tr style=\"text-align: right;\">\n",
       "      <th></th>\n",
       "      <th>product_id</th>\n",
       "      <th>product_category_name</th>\n",
       "      <th>product_name_lenght</th>\n",
       "      <th>product_description_lenght</th>\n",
       "      <th>product_photos_qty</th>\n",
       "      <th>product_weight_g</th>\n",
       "      <th>product_length_cm</th>\n",
       "      <th>product_height_cm</th>\n",
       "      <th>product_width_cm</th>\n",
       "    </tr>\n",
       "  </thead>\n",
       "  <tbody>\n",
       "    <tr>\n",
       "      <th>3</th>\n",
       "      <td>cef67bcfe19066a932b7673e239eb23d</td>\n",
       "      <td>bebes</td>\n",
       "      <td>27.0</td>\n",
       "      <td>261.0</td>\n",
       "      <td>1.0</td>\n",
       "      <td>371.0</td>\n",
       "      <td>26.0</td>\n",
       "      <td>4.0</td>\n",
       "      <td>26.0</td>\n",
       "    </tr>\n",
       "    <tr>\n",
       "      <th>11</th>\n",
       "      <td>03b63c5fc16691530586ae020c345514</td>\n",
       "      <td>bebes</td>\n",
       "      <td>49.0</td>\n",
       "      <td>728.0</td>\n",
       "      <td>4.0</td>\n",
       "      <td>7150.0</td>\n",
       "      <td>50.0</td>\n",
       "      <td>19.0</td>\n",
       "      <td>45.0</td>\n",
       "    </tr>\n",
       "    <tr>\n",
       "      <th>23</th>\n",
       "      <td>8b41fbc2b984a12030090112324d1bc4</td>\n",
       "      <td>bebes</td>\n",
       "      <td>55.0</td>\n",
       "      <td>1627.0</td>\n",
       "      <td>1.0</td>\n",
       "      <td>500.0</td>\n",
       "      <td>20.0</td>\n",
       "      <td>13.0</td>\n",
       "      <td>13.0</td>\n",
       "    </tr>\n",
       "    <tr>\n",
       "      <th>35</th>\n",
       "      <td>5370b82a213393979691c98074265584</td>\n",
       "      <td>bebes</td>\n",
       "      <td>52.0</td>\n",
       "      <td>708.0</td>\n",
       "      <td>9.0</td>\n",
       "      <td>7950.0</td>\n",
       "      <td>33.0</td>\n",
       "      <td>30.0</td>\n",
       "      <td>44.0</td>\n",
       "    </tr>\n",
       "    <tr>\n",
       "      <th>43</th>\n",
       "      <td>b864b103180d5a6a3f830e67f93e8735</td>\n",
       "      <td>bebes</td>\n",
       "      <td>47.0</td>\n",
       "      <td>980.0</td>\n",
       "      <td>4.0</td>\n",
       "      <td>600.0</td>\n",
       "      <td>70.0</td>\n",
       "      <td>11.0</td>\n",
       "      <td>11.0</td>\n",
       "    </tr>\n",
       "    <tr>\n",
       "      <th>...</th>\n",
       "      <td>...</td>\n",
       "      <td>...</td>\n",
       "      <td>...</td>\n",
       "      <td>...</td>\n",
       "      <td>...</td>\n",
       "      <td>...</td>\n",
       "      <td>...</td>\n",
       "      <td>...</td>\n",
       "      <td>...</td>\n",
       "    </tr>\n",
       "    <tr>\n",
       "      <th>32823</th>\n",
       "      <td>cba32576375902a87170bedaed045b71</td>\n",
       "      <td>bebes</td>\n",
       "      <td>58.0</td>\n",
       "      <td>1882.0</td>\n",
       "      <td>4.0</td>\n",
       "      <td>11467.0</td>\n",
       "      <td>35.0</td>\n",
       "      <td>57.0</td>\n",
       "      <td>52.0</td>\n",
       "    </tr>\n",
       "    <tr>\n",
       "      <th>32851</th>\n",
       "      <td>026311ea0b72ef8c80ebf91efd36b499</td>\n",
       "      <td>bebes</td>\n",
       "      <td>52.0</td>\n",
       "      <td>708.0</td>\n",
       "      <td>1.0</td>\n",
       "      <td>300.0</td>\n",
       "      <td>18.0</td>\n",
       "      <td>8.0</td>\n",
       "      <td>24.0</td>\n",
       "    </tr>\n",
       "    <tr>\n",
       "      <th>32853</th>\n",
       "      <td>34c84b2e246f5904a5b3597b00240ea2</td>\n",
       "      <td>bebes</td>\n",
       "      <td>55.0</td>\n",
       "      <td>1636.0</td>\n",
       "      <td>1.0</td>\n",
       "      <td>600.0</td>\n",
       "      <td>20.0</td>\n",
       "      <td>13.0</td>\n",
       "      <td>13.0</td>\n",
       "    </tr>\n",
       "    <tr>\n",
       "      <th>32935</th>\n",
       "      <td>d4484cc239fbd0ac671ab04d931edc66</td>\n",
       "      <td>bebes</td>\n",
       "      <td>42.0</td>\n",
       "      <td>414.0</td>\n",
       "      <td>2.0</td>\n",
       "      <td>150.0</td>\n",
       "      <td>23.0</td>\n",
       "      <td>15.0</td>\n",
       "      <td>15.0</td>\n",
       "    </tr>\n",
       "    <tr>\n",
       "      <th>32941</th>\n",
       "      <td>6ec96c91757fad0aecafc0ee7f262dcc</td>\n",
       "      <td>bebes</td>\n",
       "      <td>62.0</td>\n",
       "      <td>1417.0</td>\n",
       "      <td>1.0</td>\n",
       "      <td>9550.0</td>\n",
       "      <td>36.0</td>\n",
       "      <td>35.0</td>\n",
       "      <td>35.0</td>\n",
       "    </tr>\n",
       "  </tbody>\n",
       "</table>\n",
       "<p>919 rows × 9 columns</p>\n",
       "</div>"
      ],
      "text/plain": [
       "                             product_id product_category_name  \\\n",
       "3      cef67bcfe19066a932b7673e239eb23d                 bebes   \n",
       "11     03b63c5fc16691530586ae020c345514                 bebes   \n",
       "23     8b41fbc2b984a12030090112324d1bc4                 bebes   \n",
       "35     5370b82a213393979691c98074265584                 bebes   \n",
       "43     b864b103180d5a6a3f830e67f93e8735                 bebes   \n",
       "...                                 ...                   ...   \n",
       "32823  cba32576375902a87170bedaed045b71                 bebes   \n",
       "32851  026311ea0b72ef8c80ebf91efd36b499                 bebes   \n",
       "32853  34c84b2e246f5904a5b3597b00240ea2                 bebes   \n",
       "32935  d4484cc239fbd0ac671ab04d931edc66                 bebes   \n",
       "32941  6ec96c91757fad0aecafc0ee7f262dcc                 bebes   \n",
       "\n",
       "       product_name_lenght  product_description_lenght  product_photos_qty  \\\n",
       "3                     27.0                       261.0                 1.0   \n",
       "11                    49.0                       728.0                 4.0   \n",
       "23                    55.0                      1627.0                 1.0   \n",
       "35                    52.0                       708.0                 9.0   \n",
       "43                    47.0                       980.0                 4.0   \n",
       "...                    ...                         ...                 ...   \n",
       "32823                 58.0                      1882.0                 4.0   \n",
       "32851                 52.0                       708.0                 1.0   \n",
       "32853                 55.0                      1636.0                 1.0   \n",
       "32935                 42.0                       414.0                 2.0   \n",
       "32941                 62.0                      1417.0                 1.0   \n",
       "\n",
       "       product_weight_g  product_length_cm  product_height_cm  \\\n",
       "3                 371.0               26.0                4.0   \n",
       "11               7150.0               50.0               19.0   \n",
       "23                500.0               20.0               13.0   \n",
       "35               7950.0               33.0               30.0   \n",
       "43                600.0               70.0               11.0   \n",
       "...                 ...                ...                ...   \n",
       "32823           11467.0               35.0               57.0   \n",
       "32851             300.0               18.0                8.0   \n",
       "32853             600.0               20.0               13.0   \n",
       "32935             150.0               23.0               15.0   \n",
       "32941            9550.0               36.0               35.0   \n",
       "\n",
       "       product_width_cm  \n",
       "3                  26.0  \n",
       "11                 45.0  \n",
       "23                 13.0  \n",
       "35                 44.0  \n",
       "43                 11.0  \n",
       "...                 ...  \n",
       "32823              52.0  \n",
       "32851              24.0  \n",
       "32853              13.0  \n",
       "32935              15.0  \n",
       "32941              35.0  \n",
       "\n",
       "[919 rows x 9 columns]"
      ]
     },
     "execution_count": 45,
     "metadata": {},
     "output_type": "execute_result"
    }
   ],
   "source": [
    "# products in the bebes category with weight 14.7kg have a freight value  > 400\n",
    "\n",
    "# check other products in the bebes category, do they have the same freight value ?\n",
    "products_df[products_df['product_category_name'] == 'bebes']"
   ]
  },
  {
   "cell_type": "code",
   "execution_count": 46,
   "metadata": {},
   "outputs": [
    {
     "data": {
      "text/html": [
       "<div>\n",
       "<style scoped>\n",
       "    .dataframe tbody tr th:only-of-type {\n",
       "        vertical-align: middle;\n",
       "    }\n",
       "\n",
       "    .dataframe tbody tr th {\n",
       "        vertical-align: top;\n",
       "    }\n",
       "\n",
       "    .dataframe thead th {\n",
       "        text-align: right;\n",
       "    }\n",
       "</style>\n",
       "<table border=\"1\" class=\"dataframe\">\n",
       "  <thead>\n",
       "    <tr style=\"text-align: right;\">\n",
       "      <th></th>\n",
       "      <th>order_id</th>\n",
       "      <th>order_item_id</th>\n",
       "      <th>product_id</th>\n",
       "      <th>seller_id</th>\n",
       "      <th>shipping_limit_date</th>\n",
       "      <th>price</th>\n",
       "      <th>freight_value</th>\n",
       "    </tr>\n",
       "  </thead>\n",
       "  <tbody>\n",
       "    <tr>\n",
       "      <th>1774</th>\n",
       "      <td>040b98b117606d34ba51c4d274a15e2d</td>\n",
       "      <td>1</td>\n",
       "      <td>cba32576375902a87170bedaed045b71</td>\n",
       "      <td>5dceca129747e92ff8ef7a997dc4f8ca</td>\n",
       "      <td>2017-11-07 03:50:34</td>\n",
       "      <td>887.0</td>\n",
       "      <td>26.7</td>\n",
       "    </tr>\n",
       "    <tr>\n",
       "      <th>4250</th>\n",
       "      <td>098f664519835e5af0a1f20f4d778fdf</td>\n",
       "      <td>1</td>\n",
       "      <td>cba32576375902a87170bedaed045b71</td>\n",
       "      <td>5dceca129747e92ff8ef7a997dc4f8ca</td>\n",
       "      <td>2017-12-22 13:29:39</td>\n",
       "      <td>887.0</td>\n",
       "      <td>26.7</td>\n",
       "    </tr>\n",
       "    <tr>\n",
       "      <th>99293</th>\n",
       "      <td>e138f0eeabd6890e100c82b9f2925272</td>\n",
       "      <td>1</td>\n",
       "      <td>cba32576375902a87170bedaed045b71</td>\n",
       "      <td>5dceca129747e92ff8ef7a997dc4f8ca</td>\n",
       "      <td>2018-02-07 02:11:43</td>\n",
       "      <td>887.0</td>\n",
       "      <td>26.7</td>\n",
       "    </tr>\n",
       "  </tbody>\n",
       "</table>\n",
       "</div>"
      ],
      "text/plain": [
       "                               order_id  order_item_id  \\\n",
       "1774   040b98b117606d34ba51c4d274a15e2d              1   \n",
       "4250   098f664519835e5af0a1f20f4d778fdf              1   \n",
       "99293  e138f0eeabd6890e100c82b9f2925272              1   \n",
       "\n",
       "                             product_id                         seller_id  \\\n",
       "1774   cba32576375902a87170bedaed045b71  5dceca129747e92ff8ef7a997dc4f8ca   \n",
       "4250   cba32576375902a87170bedaed045b71  5dceca129747e92ff8ef7a997dc4f8ca   \n",
       "99293  cba32576375902a87170bedaed045b71  5dceca129747e92ff8ef7a997dc4f8ca   \n",
       "\n",
       "      shipping_limit_date  price  freight_value  \n",
       "1774  2017-11-07 03:50:34  887.0           26.7  \n",
       "4250  2017-12-22 13:29:39  887.0           26.7  \n",
       "99293 2018-02-07 02:11:43  887.0           26.7  "
      ]
     },
     "execution_count": 46,
     "metadata": {},
     "output_type": "execute_result"
    }
   ],
   "source": [
    "# take one sample and check the freight value\n",
    "oitems_df[oitems_df['product_id'] == 'cba32576375902a87170bedaed045b71']"
   ]
  },
  {
   "cell_type": "code",
   "execution_count": 47,
   "metadata": {},
   "outputs": [],
   "source": [
    "# product in the bebes category with weight 11.5kg have a freight value > 25. This indicates the outlier is an error\n",
    "\n",
    "# handle outliers with imputation method\n",
    "features = ['order_item_id', 'price', 'freight_value']\n",
    "\n",
    "for feature in features:\n",
    "    Q1 = oitems_df[feature].quantile(0.25)\n",
    "    Q3 = oitems_df[feature].quantile(0.75)\n",
    "    IQR = Q3 - Q1\n",
    "    \n",
    "    maximum = Q3 + (1.5 * IQR)\n",
    "    minimum = Q1 - (1.5 * IQR)\n",
    "    \n",
    "    kondisi_lower_than = oitems_df[feature] < minimum\n",
    "    kondisi_more_than = oitems_df[feature] > maximum\n",
    "    \n",
    "    oitems_df[feature] = oitems_df[feature].where(~kondisi_more_than, other=maximum)\n",
    "    oitems_df[feature] = oitems_df[feature].where(~kondisi_lower_than, other=minimum)"
   ]
  },
  {
   "cell_type": "code",
   "execution_count": 48,
   "metadata": {},
   "outputs": [
    {
     "data": {
      "image/png": "[encoded data removed]",
      "text/plain": [
       "<Figure size 400x400 with 1 Axes>"
      ]
     },
     "metadata": {},
     "output_type": "display_data"
    }
   ],
   "source": [
    "# recheck outliers\n",
    "plt.figure(figsize=(4,4))\n",
    "plt.boxplot(oitems_df.select_dtypes(include='number'))\n",
    "plt.title(\"Numerical Variable Distribution\")\n",
    "plt.show()"
   ]
  },
  {
   "cell_type": "markdown",
   "metadata": {},
   "source": [
    "#### Order Payments Dataset"
   ]
  },
  {
   "cell_type": "code",
   "execution_count": 49,
   "metadata": {},
   "outputs": [
    {
     "data": {
      "text/html": [
       "<div>\n",
       "<style scoped>\n",
       "    .dataframe tbody tr th:only-of-type {\n",
       "        vertical-align: middle;\n",
       "    }\n",
       "\n",
       "    .dataframe tbody tr th {\n",
       "        vertical-align: top;\n",
       "    }\n",
       "\n",
       "    .dataframe thead th {\n",
       "        text-align: right;\n",
       "    }\n",
       "</style>\n",
       "<table border=\"1\" class=\"dataframe\">\n",
       "  <thead>\n",
       "    <tr style=\"text-align: right;\">\n",
       "      <th></th>\n",
       "      <th>payment_sequential</th>\n",
       "      <th>payment_installments</th>\n",
       "      <th>payment_value</th>\n",
       "    </tr>\n",
       "  </thead>\n",
       "  <tbody>\n",
       "    <tr>\n",
       "      <th>count</th>\n",
       "      <td>103886.000000</td>\n",
       "      <td>103886.000000</td>\n",
       "      <td>103886.000000</td>\n",
       "    </tr>\n",
       "    <tr>\n",
       "      <th>mean</th>\n",
       "      <td>1.092679</td>\n",
       "      <td>2.853349</td>\n",
       "      <td>154.100380</td>\n",
       "    </tr>\n",
       "    <tr>\n",
       "      <th>std</th>\n",
       "      <td>0.706584</td>\n",
       "      <td>2.687051</td>\n",
       "      <td>217.494064</td>\n",
       "    </tr>\n",
       "    <tr>\n",
       "      <th>min</th>\n",
       "      <td>1.000000</td>\n",
       "      <td>0.000000</td>\n",
       "      <td>0.000000</td>\n",
       "    </tr>\n",
       "    <tr>\n",
       "      <th>25%</th>\n",
       "      <td>1.000000</td>\n",
       "      <td>1.000000</td>\n",
       "      <td>56.790000</td>\n",
       "    </tr>\n",
       "    <tr>\n",
       "      <th>50%</th>\n",
       "      <td>1.000000</td>\n",
       "      <td>1.000000</td>\n",
       "      <td>100.000000</td>\n",
       "    </tr>\n",
       "    <tr>\n",
       "      <th>75%</th>\n",
       "      <td>1.000000</td>\n",
       "      <td>4.000000</td>\n",
       "      <td>171.837500</td>\n",
       "    </tr>\n",
       "    <tr>\n",
       "      <th>max</th>\n",
       "      <td>29.000000</td>\n",
       "      <td>24.000000</td>\n",
       "      <td>13664.080000</td>\n",
       "    </tr>\n",
       "  </tbody>\n",
       "</table>\n",
       "</div>"
      ],
      "text/plain": [
       "       payment_sequential  payment_installments  payment_value\n",
       "count       103886.000000         103886.000000  103886.000000\n",
       "mean             1.092679              2.853349     154.100380\n",
       "std              0.706584              2.687051     217.494064\n",
       "min              1.000000              0.000000       0.000000\n",
       "25%              1.000000              1.000000      56.790000\n",
       "50%              1.000000              1.000000     100.000000\n",
       "75%              1.000000              4.000000     171.837500\n",
       "max             29.000000             24.000000   13664.080000"
      ]
     },
     "execution_count": 49,
     "metadata": {},
     "output_type": "execute_result"
    }
   ],
   "source": [
    "# identify outliers more deeply to find out whether the outliers are a specific pattern or an error.\n",
    "# descriptive analysis\n",
    "opayments_df.describe()"
   ]
  },
  {
   "cell_type": "code",
   "execution_count": 50,
   "metadata": {},
   "outputs": [
    {
     "data": {
      "text/html": [
       "<div>\n",
       "<style scoped>\n",
       "    .dataframe tbody tr th:only-of-type {\n",
       "        vertical-align: middle;\n",
       "    }\n",
       "\n",
       "    .dataframe tbody tr th {\n",
       "        vertical-align: top;\n",
       "    }\n",
       "\n",
       "    .dataframe thead th {\n",
       "        text-align: right;\n",
       "    }\n",
       "</style>\n",
       "<table border=\"1\" class=\"dataframe\">\n",
       "  <thead>\n",
       "    <tr style=\"text-align: right;\">\n",
       "      <th></th>\n",
       "      <th>order_id</th>\n",
       "      <th>payment_sequential</th>\n",
       "      <th>payment_type</th>\n",
       "      <th>payment_installments</th>\n",
       "      <th>payment_value</th>\n",
       "    </tr>\n",
       "  </thead>\n",
       "  <tbody>\n",
       "    <tr>\n",
       "      <th>52107</th>\n",
       "      <td>03caa2c082116e1d31e67e9ae3700499</td>\n",
       "      <td>1</td>\n",
       "      <td>credit_card</td>\n",
       "      <td>1</td>\n",
       "      <td>13664.08</td>\n",
       "    </tr>\n",
       "  </tbody>\n",
       "</table>\n",
       "</div>"
      ],
      "text/plain": [
       "                               order_id  payment_sequential payment_type  \\\n",
       "52107  03caa2c082116e1d31e67e9ae3700499                   1  credit_card   \n",
       "\n",
       "       payment_installments  payment_value  \n",
       "52107                     1       13664.08  "
      ]
     },
     "execution_count": 50,
     "metadata": {},
     "output_type": "execute_result"
    }
   ],
   "source": [
    "# take one sample of outlier data in the payment_value column \n",
    "# what is the order id for order that have a payment value > 1200?\n",
    "opayments_df[opayments_df['payment_value'] > 12000]"
   ]
  },
  {
   "cell_type": "code",
   "execution_count": 51,
   "metadata": {},
   "outputs": [
    {
     "data": {
      "text/html": [
       "<div>\n",
       "<style scoped>\n",
       "    .dataframe tbody tr th:only-of-type {\n",
       "        vertical-align: middle;\n",
       "    }\n",
       "\n",
       "    .dataframe tbody tr th {\n",
       "        vertical-align: top;\n",
       "    }\n",
       "\n",
       "    .dataframe thead th {\n",
       "        text-align: right;\n",
       "    }\n",
       "</style>\n",
       "<table border=\"1\" class=\"dataframe\">\n",
       "  <thead>\n",
       "    <tr style=\"text-align: right;\">\n",
       "      <th></th>\n",
       "      <th>order_id</th>\n",
       "      <th>order_item_id</th>\n",
       "      <th>product_id</th>\n",
       "      <th>seller_id</th>\n",
       "      <th>shipping_limit_date</th>\n",
       "      <th>price</th>\n",
       "      <th>freight_value</th>\n",
       "    </tr>\n",
       "  </thead>\n",
       "  <tbody>\n",
       "    <tr>\n",
       "      <th>1647</th>\n",
       "      <td>03caa2c082116e1d31e67e9ae3700499</td>\n",
       "      <td>1</td>\n",
       "      <td>5769ef0a239114ac3a854af00df129e4</td>\n",
       "      <td>b37c4c02bda3161a7546a4e6d222d5b2</td>\n",
       "      <td>2017-10-06 15:28:20</td>\n",
       "      <td>277.4</td>\n",
       "      <td>28.01</td>\n",
       "    </tr>\n",
       "    <tr>\n",
       "      <th>1648</th>\n",
       "      <td>03caa2c082116e1d31e67e9ae3700499</td>\n",
       "      <td>1</td>\n",
       "      <td>5769ef0a239114ac3a854af00df129e4</td>\n",
       "      <td>b37c4c02bda3161a7546a4e6d222d5b2</td>\n",
       "      <td>2017-10-06 15:28:20</td>\n",
       "      <td>277.4</td>\n",
       "      <td>28.01</td>\n",
       "    </tr>\n",
       "    <tr>\n",
       "      <th>1649</th>\n",
       "      <td>03caa2c082116e1d31e67e9ae3700499</td>\n",
       "      <td>1</td>\n",
       "      <td>5769ef0a239114ac3a854af00df129e4</td>\n",
       "      <td>b37c4c02bda3161a7546a4e6d222d5b2</td>\n",
       "      <td>2017-10-06 15:28:20</td>\n",
       "      <td>277.4</td>\n",
       "      <td>28.01</td>\n",
       "    </tr>\n",
       "    <tr>\n",
       "      <th>1650</th>\n",
       "      <td>03caa2c082116e1d31e67e9ae3700499</td>\n",
       "      <td>1</td>\n",
       "      <td>5769ef0a239114ac3a854af00df129e4</td>\n",
       "      <td>b37c4c02bda3161a7546a4e6d222d5b2</td>\n",
       "      <td>2017-10-06 15:28:20</td>\n",
       "      <td>277.4</td>\n",
       "      <td>28.01</td>\n",
       "    </tr>\n",
       "    <tr>\n",
       "      <th>1651</th>\n",
       "      <td>03caa2c082116e1d31e67e9ae3700499</td>\n",
       "      <td>1</td>\n",
       "      <td>5769ef0a239114ac3a854af00df129e4</td>\n",
       "      <td>b37c4c02bda3161a7546a4e6d222d5b2</td>\n",
       "      <td>2017-10-06 15:28:20</td>\n",
       "      <td>277.4</td>\n",
       "      <td>28.01</td>\n",
       "    </tr>\n",
       "    <tr>\n",
       "      <th>1652</th>\n",
       "      <td>03caa2c082116e1d31e67e9ae3700499</td>\n",
       "      <td>1</td>\n",
       "      <td>5769ef0a239114ac3a854af00df129e4</td>\n",
       "      <td>b37c4c02bda3161a7546a4e6d222d5b2</td>\n",
       "      <td>2017-10-06 15:28:20</td>\n",
       "      <td>277.4</td>\n",
       "      <td>28.01</td>\n",
       "    </tr>\n",
       "    <tr>\n",
       "      <th>1653</th>\n",
       "      <td>03caa2c082116e1d31e67e9ae3700499</td>\n",
       "      <td>1</td>\n",
       "      <td>5769ef0a239114ac3a854af00df129e4</td>\n",
       "      <td>b37c4c02bda3161a7546a4e6d222d5b2</td>\n",
       "      <td>2017-10-06 15:28:20</td>\n",
       "      <td>277.4</td>\n",
       "      <td>28.01</td>\n",
       "    </tr>\n",
       "    <tr>\n",
       "      <th>1654</th>\n",
       "      <td>03caa2c082116e1d31e67e9ae3700499</td>\n",
       "      <td>1</td>\n",
       "      <td>5769ef0a239114ac3a854af00df129e4</td>\n",
       "      <td>b37c4c02bda3161a7546a4e6d222d5b2</td>\n",
       "      <td>2017-10-06 15:28:20</td>\n",
       "      <td>277.4</td>\n",
       "      <td>28.01</td>\n",
       "    </tr>\n",
       "  </tbody>\n",
       "</table>\n",
       "</div>"
      ],
      "text/plain": [
       "                              order_id  order_item_id  \\\n",
       "1647  03caa2c082116e1d31e67e9ae3700499              1   \n",
       "1648  03caa2c082116e1d31e67e9ae3700499              1   \n",
       "1649  03caa2c082116e1d31e67e9ae3700499              1   \n",
       "1650  03caa2c082116e1d31e67e9ae3700499              1   \n",
       "1651  03caa2c082116e1d31e67e9ae3700499              1   \n",
       "1652  03caa2c082116e1d31e67e9ae3700499              1   \n",
       "1653  03caa2c082116e1d31e67e9ae3700499              1   \n",
       "1654  03caa2c082116e1d31e67e9ae3700499              1   \n",
       "\n",
       "                            product_id                         seller_id  \\\n",
       "1647  5769ef0a239114ac3a854af00df129e4  b37c4c02bda3161a7546a4e6d222d5b2   \n",
       "1648  5769ef0a239114ac3a854af00df129e4  b37c4c02bda3161a7546a4e6d222d5b2   \n",
       "1649  5769ef0a239114ac3a854af00df129e4  b37c4c02bda3161a7546a4e6d222d5b2   \n",
       "1650  5769ef0a239114ac3a854af00df129e4  b37c4c02bda3161a7546a4e6d222d5b2   \n",
       "1651  5769ef0a239114ac3a854af00df129e4  b37c4c02bda3161a7546a4e6d222d5b2   \n",
       "1652  5769ef0a239114ac3a854af00df129e4  b37c4c02bda3161a7546a4e6d222d5b2   \n",
       "1653  5769ef0a239114ac3a854af00df129e4  b37c4c02bda3161a7546a4e6d222d5b2   \n",
       "1654  5769ef0a239114ac3a854af00df129e4  b37c4c02bda3161a7546a4e6d222d5b2   \n",
       "\n",
       "     shipping_limit_date  price  freight_value  \n",
       "1647 2017-10-06 15:28:20  277.4          28.01  \n",
       "1648 2017-10-06 15:28:20  277.4          28.01  \n",
       "1649 2017-10-06 15:28:20  277.4          28.01  \n",
       "1650 2017-10-06 15:28:20  277.4          28.01  \n",
       "1651 2017-10-06 15:28:20  277.4          28.01  \n",
       "1652 2017-10-06 15:28:20  277.4          28.01  \n",
       "1653 2017-10-06 15:28:20  277.4          28.01  \n",
       "1654 2017-10-06 15:28:20  277.4          28.01  "
      ]
     },
     "execution_count": 51,
     "metadata": {},
     "output_type": "execute_result"
    }
   ],
   "source": [
    "# check the price and freight value\n",
    "oitems_df[oitems_df['order_id'] == '03caa2c082116e1d31e67e9ae3700499']"
   ]
  },
  {
   "cell_type": "code",
   "execution_count": 52,
   "metadata": {},
   "outputs": [],
   "source": [
    "# payment_value = price + freight_value -> 13664.08 != 277,4 + 28,01. This indicates the outlier is an error\n",
    "\n",
    "# handle outliers with imputation method\n",
    "features = ['payment_sequential', 'payment_installments', 'payment_value']\n",
    "\n",
    "for feature in features:\n",
    "    Q1 = opayments_df[feature].quantile(0.25)\n",
    "    Q3 = opayments_df[feature].quantile(0.75)\n",
    "    IQR = Q3 - Q1\n",
    "    \n",
    "    maximum = Q3 + (1.5 * IQR)\n",
    "    minimum = Q1 - (1.5 * IQR)\n",
    "    \n",
    "    kondisi_lower_than = opayments_df[feature] < minimum\n",
    "    kondisi_more_than = opayments_df[feature] > maximum\n",
    "    \n",
    "    opayments_df[feature] = opayments_df[feature].where(~kondisi_more_than, other=maximum)\n",
    "    opayments_df[feature] = opayments_df[feature].where(~kondisi_lower_than, other=minimum)"
   ]
  },
  {
   "cell_type": "code",
   "execution_count": 53,
   "metadata": {},
   "outputs": [
    {
     "data": {
      "image/png": "[encoded data removed]",
      "text/plain": [
       "<Figure size 400x400 with 1 Axes>"
      ]
     },
     "metadata": {},
     "output_type": "display_data"
    }
   ],
   "source": [
    "# recheck outliers\n",
    "plt.figure(figsize=(4,4))\n",
    "plt.boxplot(opayments_df.select_dtypes(include='number'))\n",
    "plt.title(\"Numerical Variable Distribution\")\n",
    "plt.show()"
   ]
  },
  {
   "cell_type": "markdown",
   "metadata": {},
   "source": [
    "#### Order Reviews Dataset"
   ]
  },
  {
   "cell_type": "code",
   "execution_count": 54,
   "metadata": {},
   "outputs": [],
   "source": [
    "# handle missing values with 'NaN'\n",
    "columns_with_missing_values = ['review_comment_title','review_comment_message']\n",
    "for column in columns_with_missing_values:\n",
    "    oreviews_df.fillna(value='NaN',inplace=True)"
   ]
  },
  {
   "cell_type": "code",
   "execution_count": 55,
   "metadata": {},
   "outputs": [
    {
     "data": {
      "text/plain": [
       "review_id                  0\n",
       "order_id                   0\n",
       "review_score               0\n",
       "review_comment_title       0\n",
       "review_comment_message     0\n",
       "review_creation_date       0\n",
       "review_answer_timestamp    0\n",
       "dtype: int64"
      ]
     },
     "execution_count": 55,
     "metadata": {},
     "output_type": "execute_result"
    }
   ],
   "source": [
    "# recheck missing values\n",
    "oreviews_df.isna().sum()"
   ]
  },
  {
   "cell_type": "code",
   "execution_count": 56,
   "metadata": {},
   "outputs": [
    {
     "data": {
      "text/html": [
       "<div>\n",
       "<style scoped>\n",
       "    .dataframe tbody tr th:only-of-type {\n",
       "        vertical-align: middle;\n",
       "    }\n",
       "\n",
       "    .dataframe tbody tr th {\n",
       "        vertical-align: top;\n",
       "    }\n",
       "\n",
       "    .dataframe thead th {\n",
       "        text-align: right;\n",
       "    }\n",
       "</style>\n",
       "<table border=\"1\" class=\"dataframe\">\n",
       "  <thead>\n",
       "    <tr style=\"text-align: right;\">\n",
       "      <th></th>\n",
       "      <th>review_score</th>\n",
       "    </tr>\n",
       "  </thead>\n",
       "  <tbody>\n",
       "    <tr>\n",
       "      <th>count</th>\n",
       "      <td>99224.000000</td>\n",
       "    </tr>\n",
       "    <tr>\n",
       "      <th>mean</th>\n",
       "      <td>4.086421</td>\n",
       "    </tr>\n",
       "    <tr>\n",
       "      <th>std</th>\n",
       "      <td>1.347579</td>\n",
       "    </tr>\n",
       "    <tr>\n",
       "      <th>min</th>\n",
       "      <td>1.000000</td>\n",
       "    </tr>\n",
       "    <tr>\n",
       "      <th>25%</th>\n",
       "      <td>4.000000</td>\n",
       "    </tr>\n",
       "    <tr>\n",
       "      <th>50%</th>\n",
       "      <td>5.000000</td>\n",
       "    </tr>\n",
       "    <tr>\n",
       "      <th>75%</th>\n",
       "      <td>5.000000</td>\n",
       "    </tr>\n",
       "    <tr>\n",
       "      <th>max</th>\n",
       "      <td>5.000000</td>\n",
       "    </tr>\n",
       "  </tbody>\n",
       "</table>\n",
       "</div>"
      ],
      "text/plain": [
       "       review_score\n",
       "count  99224.000000\n",
       "mean       4.086421\n",
       "std        1.347579\n",
       "min        1.000000\n",
       "25%        4.000000\n",
       "50%        5.000000\n",
       "75%        5.000000\n",
       "max        5.000000"
      ]
     },
     "execution_count": 56,
     "metadata": {},
     "output_type": "execute_result"
    }
   ],
   "source": [
    "# identify outliers more deeply to find out whether the outliers are a specific pattern or an error.\n",
    "# descriptive analysis\n",
    "oreviews_df.describe()"
   ]
  },
  {
   "cell_type": "code",
   "execution_count": 57,
   "metadata": {},
   "outputs": [
    {
     "data": {
      "text/html": [
       "<div>\n",
       "<style scoped>\n",
       "    .dataframe tbody tr th:only-of-type {\n",
       "        vertical-align: middle;\n",
       "    }\n",
       "\n",
       "    .dataframe tbody tr th {\n",
       "        vertical-align: top;\n",
       "    }\n",
       "\n",
       "    .dataframe thead th {\n",
       "        text-align: right;\n",
       "    }\n",
       "</style>\n",
       "<table border=\"1\" class=\"dataframe\">\n",
       "  <thead>\n",
       "    <tr style=\"text-align: right;\">\n",
       "      <th></th>\n",
       "      <th>review_id</th>\n",
       "      <th>order_id</th>\n",
       "      <th>review_score</th>\n",
       "      <th>review_comment_title</th>\n",
       "      <th>review_comment_message</th>\n",
       "      <th>review_creation_date</th>\n",
       "      <th>review_answer_timestamp</th>\n",
       "    </tr>\n",
       "  </thead>\n",
       "  <tbody>\n",
       "    <tr>\n",
       "      <th>5</th>\n",
       "      <td>15197aa66ff4d0650b5434f1b46cda19</td>\n",
       "      <td>b18dcdf73be66366873cd26c5724d1dc</td>\n",
       "      <td>1</td>\n",
       "      <td>NaN</td>\n",
       "      <td>NaN</td>\n",
       "      <td>2018-04-13</td>\n",
       "      <td>2018-04-16 00:39:37</td>\n",
       "    </tr>\n",
       "    <tr>\n",
       "      <th>16</th>\n",
       "      <td>9314d6f9799f5bfba510cc7bcd468c01</td>\n",
       "      <td>0dacf04c5ad59fd5a0cc1faa07c34e39</td>\n",
       "      <td>2</td>\n",
       "      <td>NaN</td>\n",
       "      <td>GOSTARIA DE SABER O QUE HOUVE, SEMPRE RECEBI E...</td>\n",
       "      <td>2018-01-18</td>\n",
       "      <td>2018-01-20 21:25:45</td>\n",
       "    </tr>\n",
       "    <tr>\n",
       "      <th>19</th>\n",
       "      <td>373cbeecea8286a2b66c97b1b157ec46</td>\n",
       "      <td>583174fbe37d3d5f0d6661be3aad1786</td>\n",
       "      <td>1</td>\n",
       "      <td>Não chegou meu produto</td>\n",
       "      <td>Péssimo</td>\n",
       "      <td>2018-08-15</td>\n",
       "      <td>2018-08-15 04:10:37</td>\n",
       "    </tr>\n",
       "    <tr>\n",
       "      <th>29</th>\n",
       "      <td>2c5e27fc178bde7ac173c9c62c31b070</td>\n",
       "      <td>0ce9a24111d850192a933fcaab6fbad3</td>\n",
       "      <td>1</td>\n",
       "      <td>NaN</td>\n",
       "      <td>Não gostei ! Comprei gato por lebre</td>\n",
       "      <td>2017-12-13</td>\n",
       "      <td>2017-12-16 07:14:07</td>\n",
       "    </tr>\n",
       "    <tr>\n",
       "      <th>32</th>\n",
       "      <td>58044bca115705a48fe0e00a21390c54</td>\n",
       "      <td>68e55ca79d04a79f20d4bfc0146f4b66</td>\n",
       "      <td>1</td>\n",
       "      <td>NaN</td>\n",
       "      <td>Sempre compro pela Internet e a entrega ocorre...</td>\n",
       "      <td>2018-04-08</td>\n",
       "      <td>2018-04-09 12:22:39</td>\n",
       "    </tr>\n",
       "    <tr>\n",
       "      <th>...</th>\n",
       "      <td>...</td>\n",
       "      <td>...</td>\n",
       "      <td>...</td>\n",
       "      <td>...</td>\n",
       "      <td>...</td>\n",
       "      <td>...</td>\n",
       "      <td>...</td>\n",
       "    </tr>\n",
       "    <tr>\n",
       "      <th>99174</th>\n",
       "      <td>cf0b8c06ba024a8a8d3f2ac51fcd99f4</td>\n",
       "      <td>fff2cdc825f9fc0ba3c04227cfa02303</td>\n",
       "      <td>2</td>\n",
       "      <td>NaN</td>\n",
       "      <td>NaN</td>\n",
       "      <td>2018-03-09</td>\n",
       "      <td>2018-04-23 17:52:49</td>\n",
       "    </tr>\n",
       "    <tr>\n",
       "      <th>99184</th>\n",
       "      <td>6cf47345d15e054dd6df872e929bdb27</td>\n",
       "      <td>54e6829fe81bc86cf88b12e6d07ea298</td>\n",
       "      <td>1</td>\n",
       "      <td>NaN</td>\n",
       "      <td>NaN</td>\n",
       "      <td>2017-06-08</td>\n",
       "      <td>2017-06-08 22:52:39</td>\n",
       "    </tr>\n",
       "    <tr>\n",
       "      <th>99200</th>\n",
       "      <td>2ee221b28e5b6fceffac59487ed39348</td>\n",
       "      <td>f2d12dd37eaef72ed7b1186b2edefbcd</td>\n",
       "      <td>2</td>\n",
       "      <td>Foto enganosa</td>\n",
       "      <td>Foto muito diferente principalmente a graninha...</td>\n",
       "      <td>2018-03-28</td>\n",
       "      <td>2018-05-25 01:23:26</td>\n",
       "    </tr>\n",
       "    <tr>\n",
       "      <th>99203</th>\n",
       "      <td>5085bc489aa6b58a29c4f922d59ff826</td>\n",
       "      <td>18ed848509774f56cc8c1c0a1903ad7f</td>\n",
       "      <td>2</td>\n",
       "      <td>NaN</td>\n",
       "      <td>Tive um problema na entrega em que o correio c...</td>\n",
       "      <td>2018-02-21</td>\n",
       "      <td>2018-02-23 11:43:12</td>\n",
       "    </tr>\n",
       "    <tr>\n",
       "      <th>99223</th>\n",
       "      <td>efe49f1d6f951dd88b51e6ccd4cc548f</td>\n",
       "      <td>90531360ecb1eec2a1fbb265a0db0508</td>\n",
       "      <td>1</td>\n",
       "      <td>NaN</td>\n",
       "      <td>meu produto chegou e ja tenho que devolver, po...</td>\n",
       "      <td>2017-07-03</td>\n",
       "      <td>2017-07-03 21:01:49</td>\n",
       "    </tr>\n",
       "  </tbody>\n",
       "</table>\n",
       "<p>14575 rows × 7 columns</p>\n",
       "</div>"
      ],
      "text/plain": [
       "                              review_id                          order_id  \\\n",
       "5      15197aa66ff4d0650b5434f1b46cda19  b18dcdf73be66366873cd26c5724d1dc   \n",
       "16     9314d6f9799f5bfba510cc7bcd468c01  0dacf04c5ad59fd5a0cc1faa07c34e39   \n",
       "19     373cbeecea8286a2b66c97b1b157ec46  583174fbe37d3d5f0d6661be3aad1786   \n",
       "29     2c5e27fc178bde7ac173c9c62c31b070  0ce9a24111d850192a933fcaab6fbad3   \n",
       "32     58044bca115705a48fe0e00a21390c54  68e55ca79d04a79f20d4bfc0146f4b66   \n",
       "...                                 ...                               ...   \n",
       "99174  cf0b8c06ba024a8a8d3f2ac51fcd99f4  fff2cdc825f9fc0ba3c04227cfa02303   \n",
       "99184  6cf47345d15e054dd6df872e929bdb27  54e6829fe81bc86cf88b12e6d07ea298   \n",
       "99200  2ee221b28e5b6fceffac59487ed39348  f2d12dd37eaef72ed7b1186b2edefbcd   \n",
       "99203  5085bc489aa6b58a29c4f922d59ff826  18ed848509774f56cc8c1c0a1903ad7f   \n",
       "99223  efe49f1d6f951dd88b51e6ccd4cc548f  90531360ecb1eec2a1fbb265a0db0508   \n",
       "\n",
       "       review_score     review_comment_title  \\\n",
       "5                 1                      NaN   \n",
       "16                2                      NaN   \n",
       "19                1  Não chegou meu produto    \n",
       "29                1                      NaN   \n",
       "32                1                      NaN   \n",
       "...             ...                      ...   \n",
       "99174             2                      NaN   \n",
       "99184             1                      NaN   \n",
       "99200             2           Foto enganosa    \n",
       "99203             2                      NaN   \n",
       "99223             1                      NaN   \n",
       "\n",
       "                                  review_comment_message review_creation_date  \\\n",
       "5                                                    NaN           2018-04-13   \n",
       "16     GOSTARIA DE SABER O QUE HOUVE, SEMPRE RECEBI E...           2018-01-18   \n",
       "19                                               Péssimo           2018-08-15   \n",
       "29                   Não gostei ! Comprei gato por lebre           2017-12-13   \n",
       "32     Sempre compro pela Internet e a entrega ocorre...           2018-04-08   \n",
       "...                                                  ...                  ...   \n",
       "99174                                                NaN           2018-03-09   \n",
       "99184                                                NaN           2017-06-08   \n",
       "99200  Foto muito diferente principalmente a graninha...           2018-03-28   \n",
       "99203  Tive um problema na entrega em que o correio c...           2018-02-21   \n",
       "99223  meu produto chegou e ja tenho que devolver, po...           2017-07-03   \n",
       "\n",
       "      review_answer_timestamp  \n",
       "5         2018-04-16 00:39:37  \n",
       "16        2018-01-20 21:25:45  \n",
       "19        2018-08-15 04:10:37  \n",
       "29        2017-12-16 07:14:07  \n",
       "32        2018-04-09 12:22:39  \n",
       "...                       ...  \n",
       "99174     2018-04-23 17:52:49  \n",
       "99184     2017-06-08 22:52:39  \n",
       "99200     2018-05-25 01:23:26  \n",
       "99203     2018-02-23 11:43:12  \n",
       "99223     2017-07-03 21:01:49  \n",
       "\n",
       "[14575 rows x 7 columns]"
      ]
     },
     "execution_count": 57,
     "metadata": {},
     "output_type": "execute_result"
    }
   ],
   "source": [
    "# take one sample of outlier data in the freight_value column \n",
    "# what the review comment title and message that have a review score <= 2? \n",
    "oreviews_df[oreviews_df['review_score'] <= 2 ]"
   ]
  },
  {
   "cell_type": "code",
   "execution_count": 58,
   "metadata": {},
   "outputs": [],
   "source": [
    "# from the title and the message of the review comment indicate customer dissatisfaction with the product. \n",
    "# thus, the outliers in the order reviews dataset are left."
   ]
  },
  {
   "cell_type": "markdown",
   "metadata": {},
   "source": [
    "### Merge Datasets"
   ]
  },
  {
   "cell_type": "code",
   "execution_count": 59,
   "metadata": {},
   "outputs": [],
   "source": [
    "# merge orders dataset and order items dataset\n",
    "orders = pd.merge(orders_df, oitems_df, on='order_id', how='inner')"
   ]
  },
  {
   "cell_type": "code",
   "execution_count": 60,
   "metadata": {},
   "outputs": [
    {
     "name": "stdout",
     "output_type": "stream",
     "text": [
      "<class 'pandas.core.frame.DataFrame'>\n",
      "Int64Index: 112650 entries, 0 to 112649\n",
      "Data columns (total 14 columns):\n",
      " #   Column                         Non-Null Count   Dtype         \n",
      "---  ------                         --------------   -----         \n",
      " 0   order_id                       112650 non-null  object        \n",
      " 1   customer_id                    112650 non-null  object        \n",
      " 2   order_status                   112650 non-null  object        \n",
      " 3   order_purchase_timestamp       112650 non-null  datetime64[ns]\n",
      " 4   order_approved_at              112650 non-null  datetime64[ns]\n",
      " 5   order_delivered_carrier_date   112650 non-null  datetime64[ns]\n",
      " 6   order_delivered_customer_date  112650 non-null  datetime64[ns]\n",
      " 7   order_estimated_delivery_date  112650 non-null  datetime64[ns]\n",
      " 8   order_item_id                  112650 non-null  int64         \n",
      " 9   product_id                     112650 non-null  object        \n",
      " 10  seller_id                      112650 non-null  object        \n",
      " 11  shipping_limit_date            112650 non-null  datetime64[ns]\n",
      " 12  price                          112650 non-null  float64       \n",
      " 13  freight_value                  112650 non-null  float64       \n",
      "dtypes: datetime64[ns](6), float64(2), int64(1), object(5)\n",
      "memory usage: 12.9+ MB\n"
     ]
    }
   ],
   "source": [
    "# identify number of rows and columns, data types\n",
    "orders.info()"
   ]
  },
  {
   "cell_type": "code",
   "execution_count": 61,
   "metadata": {},
   "outputs": [
    {
     "data": {
      "text/plain": [
       "10225"
      ]
     },
     "execution_count": 61,
     "metadata": {},
     "output_type": "execute_result"
    }
   ],
   "source": [
    "# identify data duplicates\n",
    "orders.duplicated().sum()"
   ]
  },
  {
   "cell_type": "code",
   "execution_count": 62,
   "metadata": {},
   "outputs": [],
   "source": [
    "# handle data duplicates\n",
    "orders.drop_duplicates(inplace=True)"
   ]
  },
  {
   "cell_type": "code",
   "execution_count": 63,
   "metadata": {},
   "outputs": [
    {
     "data": {
      "text/plain": [
       "0"
      ]
     },
     "execution_count": 63,
     "metadata": {},
     "output_type": "execute_result"
    }
   ],
   "source": [
    "# recheck data duplicates\n",
    "orders.duplicated().sum()"
   ]
  },
  {
   "cell_type": "code",
   "execution_count": 64,
   "metadata": {},
   "outputs": [
    {
     "data": {
      "text/plain": [
       "order_id                         0\n",
       "customer_id                      0\n",
       "order_status                     0\n",
       "order_purchase_timestamp         0\n",
       "order_approved_at                0\n",
       "order_delivered_carrier_date     0\n",
       "order_delivered_customer_date    0\n",
       "order_estimated_delivery_date    0\n",
       "order_item_id                    0\n",
       "product_id                       0\n",
       "seller_id                        0\n",
       "shipping_limit_date              0\n",
       "price                            0\n",
       "freight_value                    0\n",
       "dtype: int64"
      ]
     },
     "execution_count": 64,
     "metadata": {},
     "output_type": "execute_result"
    }
   ],
   "source": [
    "# identify missing values \n",
    "orders.isna().sum()"
   ]
  },
  {
   "cell_type": "code",
   "execution_count": 65,
   "metadata": {},
   "outputs": [
    {
     "data": {
      "image/png": "[encoded data removed]",
      "text/plain": [
       "<Figure size 400x400 with 1 Axes>"
      ]
     },
     "metadata": {},
     "output_type": "display_data"
    }
   ],
   "source": [
    "# identify outlier\n",
    "plt.figure(figsize=(4,4))\n",
    "plt.boxplot(orders.select_dtypes(include='number'))\n",
    "plt.title(\"Numerical Variable Distribution\")\n",
    "plt.show()"
   ]
  },
  {
   "cell_type": "code",
   "execution_count": 66,
   "metadata": {},
   "outputs": [],
   "source": [
    "# merge orders dataset and order payments dataset\n",
    "orders = pd.merge(orders, opayments_df, on='order_id', how='inner')"
   ]
  },
  {
   "cell_type": "code",
   "execution_count": 67,
   "metadata": {},
   "outputs": [
    {
     "name": "stdout",
     "output_type": "stream",
     "text": [
      "<class 'pandas.core.frame.DataFrame'>\n",
      "Int64Index: 107024 entries, 0 to 107023\n",
      "Data columns (total 18 columns):\n",
      " #   Column                         Non-Null Count   Dtype         \n",
      "---  ------                         --------------   -----         \n",
      " 0   order_id                       107024 non-null  object        \n",
      " 1   customer_id                    107024 non-null  object        \n",
      " 2   order_status                   107024 non-null  object        \n",
      " 3   order_purchase_timestamp       107024 non-null  datetime64[ns]\n",
      " 4   order_approved_at              107024 non-null  datetime64[ns]\n",
      " 5   order_delivered_carrier_date   107024 non-null  datetime64[ns]\n",
      " 6   order_delivered_customer_date  107024 non-null  datetime64[ns]\n",
      " 7   order_estimated_delivery_date  107024 non-null  datetime64[ns]\n",
      " 8   order_item_id                  107024 non-null  int64         \n",
      " 9   product_id                     107024 non-null  object        \n",
      " 10  seller_id                      107024 non-null  object        \n",
      " 11  shipping_limit_date            107024 non-null  datetime64[ns]\n",
      " 12  price                          107024 non-null  float64       \n",
      " 13  freight_value                  107024 non-null  float64       \n",
      " 14  payment_sequential             107024 non-null  int64         \n",
      " 15  payment_type                   107024 non-null  object        \n",
      " 16  payment_installments           107024 non-null  float64       \n",
      " 17  payment_value                  107024 non-null  float64       \n",
      "dtypes: datetime64[ns](6), float64(4), int64(2), object(6)\n",
      "memory usage: 15.5+ MB\n"
     ]
    }
   ],
   "source": [
    "# identify number of rows and columns, data types\n",
    "orders.info()"
   ]
  },
  {
   "cell_type": "code",
   "execution_count": 68,
   "metadata": {},
   "outputs": [
    {
     "data": {
      "text/plain": [
       "654"
      ]
     },
     "execution_count": 68,
     "metadata": {},
     "output_type": "execute_result"
    }
   ],
   "source": [
    "# identify data duplicates\n",
    "orders.duplicated().sum()"
   ]
  },
  {
   "cell_type": "code",
   "execution_count": 69,
   "metadata": {},
   "outputs": [],
   "source": [
    "# handle data duplicates\n",
    "orders.drop_duplicates(inplace=True)"
   ]
  },
  {
   "cell_type": "code",
   "execution_count": 70,
   "metadata": {},
   "outputs": [
    {
     "data": {
      "text/plain": [
       "order_id                         0\n",
       "customer_id                      0\n",
       "order_status                     0\n",
       "order_purchase_timestamp         0\n",
       "order_approved_at                0\n",
       "order_delivered_carrier_date     0\n",
       "order_delivered_customer_date    0\n",
       "order_estimated_delivery_date    0\n",
       "order_item_id                    0\n",
       "product_id                       0\n",
       "seller_id                        0\n",
       "shipping_limit_date              0\n",
       "price                            0\n",
       "freight_value                    0\n",
       "payment_sequential               0\n",
       "payment_type                     0\n",
       "payment_installments             0\n",
       "payment_value                    0\n",
       "dtype: int64"
      ]
     },
     "execution_count": 70,
     "metadata": {},
     "output_type": "execute_result"
    }
   ],
   "source": [
    "# identify missing values \n",
    "orders.isna().sum()"
   ]
  },
  {
   "cell_type": "code",
   "execution_count": 71,
   "metadata": {},
   "outputs": [
    {
     "data": {
      "image/png": "[encoded data removed]",
      "text/plain": [
       "<Figure size 400x400 with 1 Axes>"
      ]
     },
     "metadata": {},
     "output_type": "display_data"
    }
   ],
   "source": [
    "# identify outlier\n",
    "plt.figure(figsize=(4,4))\n",
    "plt.boxplot(orders.select_dtypes(include='number'))\n",
    "plt.title(\"Numerical Variable Distribution\")\n",
    "plt.show()"
   ]
  },
  {
   "cell_type": "code",
   "execution_count": 72,
   "metadata": {},
   "outputs": [],
   "source": [
    "# merge orders dataset and order reviews dataset\n",
    "orders = pd.merge(orders, oreviews_df, on='order_id', how='inner')"
   ]
  },
  {
   "cell_type": "code",
   "execution_count": 73,
   "metadata": {},
   "outputs": [
    {
     "name": "stdout",
     "output_type": "stream",
     "text": [
      "<class 'pandas.core.frame.DataFrame'>\n",
      "Int64Index: 106178 entries, 0 to 106177\n",
      "Data columns (total 24 columns):\n",
      " #   Column                         Non-Null Count   Dtype         \n",
      "---  ------                         --------------   -----         \n",
      " 0   order_id                       106178 non-null  object        \n",
      " 1   customer_id                    106178 non-null  object        \n",
      " 2   order_status                   106178 non-null  object        \n",
      " 3   order_purchase_timestamp       106178 non-null  datetime64[ns]\n",
      " 4   order_approved_at              106178 non-null  datetime64[ns]\n",
      " 5   order_delivered_carrier_date   106178 non-null  datetime64[ns]\n",
      " 6   order_delivered_customer_date  106178 non-null  datetime64[ns]\n",
      " 7   order_estimated_delivery_date  106178 non-null  datetime64[ns]\n",
      " 8   order_item_id                  106178 non-null  int64         \n",
      " 9   product_id                     106178 non-null  object        \n",
      " 10  seller_id                      106178 non-null  object        \n",
      " 11  shipping_limit_date            106178 non-null  datetime64[ns]\n",
      " 12  price                          106178 non-null  float64       \n",
      " 13  freight_value                  106178 non-null  float64       \n",
      " 14  payment_sequential             106178 non-null  int64         \n",
      " 15  payment_type                   106178 non-null  object        \n",
      " 16  payment_installments           106178 non-null  float64       \n",
      " 17  payment_value                  106178 non-null  float64       \n",
      " 18  review_id                      106178 non-null  object        \n",
      " 19  review_score                   106178 non-null  int64         \n",
      " 20  review_comment_title           106178 non-null  object        \n",
      " 21  review_comment_message         106178 non-null  object        \n",
      " 22  review_creation_date           106178 non-null  datetime64[ns]\n",
      " 23  review_answer_timestamp        106178 non-null  datetime64[ns]\n",
      "dtypes: datetime64[ns](8), float64(4), int64(3), object(9)\n",
      "memory usage: 20.3+ MB\n"
     ]
    }
   ],
   "source": [
    "# identify number of rows and columns, data types\n",
    "orders.info()"
   ]
  },
  {
   "cell_type": "code",
   "execution_count": 74,
   "metadata": {},
   "outputs": [
    {
     "data": {
      "text/plain": [
       "0"
      ]
     },
     "execution_count": 74,
     "metadata": {},
     "output_type": "execute_result"
    }
   ],
   "source": [
    "# identify data duplicates\n",
    "orders.duplicated().sum()"
   ]
  },
  {
   "cell_type": "code",
   "execution_count": 75,
   "metadata": {},
   "outputs": [
    {
     "data": {
      "text/plain": [
       "order_id                         0\n",
       "customer_id                      0\n",
       "order_status                     0\n",
       "order_purchase_timestamp         0\n",
       "order_approved_at                0\n",
       "order_delivered_carrier_date     0\n",
       "order_delivered_customer_date    0\n",
       "order_estimated_delivery_date    0\n",
       "order_item_id                    0\n",
       "product_id                       0\n",
       "seller_id                        0\n",
       "shipping_limit_date              0\n",
       "price                            0\n",
       "freight_value                    0\n",
       "payment_sequential               0\n",
       "payment_type                     0\n",
       "payment_installments             0\n",
       "payment_value                    0\n",
       "review_id                        0\n",
       "review_score                     0\n",
       "review_comment_title             0\n",
       "review_comment_message           0\n",
       "review_creation_date             0\n",
       "review_answer_timestamp          0\n",
       "dtype: int64"
      ]
     },
     "execution_count": 75,
     "metadata": {},
     "output_type": "execute_result"
    }
   ],
   "source": [
    "# identify missing values \n",
    "orders.isna().sum()"
   ]
  },
  {
   "cell_type": "code",
   "execution_count": 76,
   "metadata": {},
   "outputs": [
    {
     "data": {
      "image/png": "[encoded data removed]",
      "text/plain": [
       "<Figure size 400x400 with 1 Axes>"
      ]
     },
     "metadata": {},
     "output_type": "display_data"
    }
   ],
   "source": [
    "# identify outlier\n",
    "plt.figure(figsize=(4,4))\n",
    "plt.boxplot(orders.select_dtypes(include='number'))\n",
    "plt.title(\"Numerical Variable Distribution\")\n",
    "plt.show()"
   ]
  },
  {
   "cell_type": "markdown",
   "metadata": {},
   "source": [
    "**Insight:** Orders dataset is the result of merging the order dataset, order item dataset, order payment dataset, and order review dataset."
   ]
  },
  {
   "cell_type": "code",
   "execution_count": 77,
   "metadata": {},
   "outputs": [],
   "source": [
    "# merge products dataset and product category name translation dataset\n",
    "products = pd.merge(products_df, product_category_name_t_df, on='product_category_name', how='inner')"
   ]
  },
  {
   "cell_type": "code",
   "execution_count": 78,
   "metadata": {},
   "outputs": [
    {
     "name": "stdout",
     "output_type": "stream",
     "text": [
      "<class 'pandas.core.frame.DataFrame'>\n",
      "Int64Index: 32328 entries, 0 to 32327\n",
      "Data columns (total 10 columns):\n",
      " #   Column                         Non-Null Count  Dtype  \n",
      "---  ------                         --------------  -----  \n",
      " 0   product_id                     32328 non-null  object \n",
      " 1   product_category_name          32328 non-null  object \n",
      " 2   product_name_lenght            32328 non-null  float64\n",
      " 3   product_description_lenght     32328 non-null  float64\n",
      " 4   product_photos_qty             32328 non-null  float64\n",
      " 5   product_weight_g               32328 non-null  float64\n",
      " 6   product_length_cm              32328 non-null  float64\n",
      " 7   product_height_cm              32328 non-null  float64\n",
      " 8   product_width_cm               32328 non-null  float64\n",
      " 9   product_category_name_english  32328 non-null  object \n",
      "dtypes: float64(7), object(3)\n",
      "memory usage: 2.7+ MB\n"
     ]
    }
   ],
   "source": [
    "# identify number of rows and columns, data types\n",
    "products.info()"
   ]
  },
  {
   "cell_type": "code",
   "execution_count": 79,
   "metadata": {},
   "outputs": [
    {
     "data": {
      "text/plain": [
       "0"
      ]
     },
     "execution_count": 79,
     "metadata": {},
     "output_type": "execute_result"
    }
   ],
   "source": [
    "# identify data duplicate\n",
    "products.duplicated().sum()"
   ]
  },
  {
   "cell_type": "code",
   "execution_count": 80,
   "metadata": {},
   "outputs": [
    {
     "data": {
      "text/plain": [
       "product_id                       0\n",
       "product_category_name            0\n",
       "product_name_lenght              0\n",
       "product_description_lenght       0\n",
       "product_photos_qty               0\n",
       "product_weight_g                 0\n",
       "product_length_cm                0\n",
       "product_height_cm                0\n",
       "product_width_cm                 0\n",
       "product_category_name_english    0\n",
       "dtype: int64"
      ]
     },
     "execution_count": 80,
     "metadata": {},
     "output_type": "execute_result"
    }
   ],
   "source": [
    "# identify missing values\n",
    "products.isna().sum()"
   ]
  },
  {
   "cell_type": "code",
   "execution_count": 81,
   "metadata": {},
   "outputs": [
    {
     "data": {
      "image/png": "[encoded data removed]",
      "text/plain": [
       "<Figure size 400x400 with 1 Axes>"
      ]
     },
     "metadata": {},
     "output_type": "display_data"
    }
   ],
   "source": [
    "# identify outlier\n",
    "plt.figure(figsize=(4,4))\n",
    "plt.boxplot(products.select_dtypes(include='number'))\n",
    "plt.title(\"Numerical Variable Distribution\")\n",
    "plt.show()"
   ]
  },
  {
   "cell_type": "code",
   "execution_count": 82,
   "metadata": {},
   "outputs": [],
   "source": [
    "# handle outliers with imputation method\n",
    "features = ['product_name_lenght', 'product_description_lenght', 'product_photos_qty',\n",
    "            'product_weight_g', 'product_length_cm', 'product_height_cm', 'product_width_cm']\n",
    "\n",
    "for feature in features:\n",
    "    Q1 = products[feature].quantile(0.25)\n",
    "    Q3 = products[feature].quantile(0.75)\n",
    "    IQR = Q3 - Q1\n",
    "    \n",
    "    maximum = Q3 + (1.5 * IQR)\n",
    "    minimum = Q1 - (1.5 * IQR)\n",
    "    \n",
    "    kondisi_lower_than = products[feature] < minimum\n",
    "    kondisi_more_than = products[feature] > maximum\n",
    "    \n",
    "    products[feature] = products[feature].where(~kondisi_more_than, other=maximum)\n",
    "    products[feature] = products[feature].where(~kondisi_lower_than, other=minimum)"
   ]
  },
  {
   "cell_type": "code",
   "execution_count": 83,
   "metadata": {},
   "outputs": [
    {
     "data": {
      "image/png": "[encoded data removed]",
      "text/plain": [
       "<Figure size 400x400 with 1 Axes>"
      ]
     },
     "metadata": {},
     "output_type": "display_data"
    }
   ],
   "source": [
    "plt.figure(figsize=(4,4))\n",
    "plt.boxplot(products.select_dtypes(include='number'))\n",
    "plt.title(\"Numerical Variable Distribution\")\n",
    "plt.show()"
   ]
  },
  {
   "cell_type": "markdown",
   "metadata": {},
   "source": [
    "**Insight:** Products dataset is the result of merging the products dataset and product category name translation dataset."
   ]
  },
  {
   "cell_type": "code",
   "execution_count": 84,
   "metadata": {},
   "outputs": [],
   "source": [
    "# merge customers dataset and orders dataset\n",
    "customers_orders = pd.merge(customers_df, orders, on='customer_id', how='inner')"
   ]
  },
  {
   "cell_type": "code",
   "execution_count": 85,
   "metadata": {},
   "outputs": [
    {
     "name": "stdout",
     "output_type": "stream",
     "text": [
      "<class 'pandas.core.frame.DataFrame'>\n",
      "Int64Index: 106178 entries, 0 to 106177\n",
      "Data columns (total 28 columns):\n",
      " #   Column                         Non-Null Count   Dtype         \n",
      "---  ------                         --------------   -----         \n",
      " 0   customer_id                    106178 non-null  object        \n",
      " 1   customer_unique_id             106178 non-null  object        \n",
      " 2   customer_zip_code_prefix       106178 non-null  int64         \n",
      " 3   customer_city                  106178 non-null  object        \n",
      " 4   customer_state                 106178 non-null  object        \n",
      " 5   order_id                       106178 non-null  object        \n",
      " 6   order_status                   106178 non-null  object        \n",
      " 7   order_purchase_timestamp       106178 non-null  datetime64[ns]\n",
      " 8   order_approved_at              106178 non-null  datetime64[ns]\n",
      " 9   order_delivered_carrier_date   106178 non-null  datetime64[ns]\n",
      " 10  order_delivered_customer_date  106178 non-null  datetime64[ns]\n",
      " 11  order_estimated_delivery_date  106178 non-null  datetime64[ns]\n",
      " 12  order_item_id                  106178 non-null  int64         \n",
      " 13  product_id                     106178 non-null  object        \n",
      " 14  seller_id                      106178 non-null  object        \n",
      " 15  shipping_limit_date            106178 non-null  datetime64[ns]\n",
      " 16  price                          106178 non-null  float64       \n",
      " 17  freight_value                  106178 non-null  float64       \n",
      " 18  payment_sequential             106178 non-null  int64         \n",
      " 19  payment_type                   106178 non-null  object        \n",
      " 20  payment_installments           106178 non-null  float64       \n",
      " 21  payment_value                  106178 non-null  float64       \n",
      " 22  review_id                      106178 non-null  object        \n",
      " 23  review_score                   106178 non-null  int64         \n",
      " 24  review_comment_title           106178 non-null  object        \n",
      " 25  review_comment_message         106178 non-null  object        \n",
      " 26  review_creation_date           106178 non-null  datetime64[ns]\n",
      " 27  review_answer_timestamp        106178 non-null  datetime64[ns]\n",
      "dtypes: datetime64[ns](8), float64(4), int64(4), object(12)\n",
      "memory usage: 23.5+ MB\n"
     ]
    }
   ],
   "source": [
    "# identify number of rows and columns, data types\n",
    "customers_orders.info()"
   ]
  },
  {
   "cell_type": "code",
   "execution_count": 86,
   "metadata": {},
   "outputs": [
    {
     "data": {
      "text/plain": [
       "0"
      ]
     },
     "execution_count": 86,
     "metadata": {},
     "output_type": "execute_result"
    }
   ],
   "source": [
    "# identify data duplicate\n",
    "customers_orders.duplicated().sum()"
   ]
  },
  {
   "cell_type": "code",
   "execution_count": 87,
   "metadata": {},
   "outputs": [
    {
     "data": {
      "text/plain": [
       "customer_id                      0\n",
       "customer_unique_id               0\n",
       "customer_zip_code_prefix         0\n",
       "customer_city                    0\n",
       "customer_state                   0\n",
       "order_id                         0\n",
       "order_status                     0\n",
       "order_purchase_timestamp         0\n",
       "order_approved_at                0\n",
       "order_delivered_carrier_date     0\n",
       "order_delivered_customer_date    0\n",
       "order_estimated_delivery_date    0\n",
       "order_item_id                    0\n",
       "product_id                       0\n",
       "seller_id                        0\n",
       "shipping_limit_date              0\n",
       "price                            0\n",
       "freight_value                    0\n",
       "payment_sequential               0\n",
       "payment_type                     0\n",
       "payment_installments             0\n",
       "payment_value                    0\n",
       "review_id                        0\n",
       "review_score                     0\n",
       "review_comment_title             0\n",
       "review_comment_message           0\n",
       "review_creation_date             0\n",
       "review_answer_timestamp          0\n",
       "dtype: int64"
      ]
     },
     "execution_count": 87,
     "metadata": {},
     "output_type": "execute_result"
    }
   ],
   "source": [
    "# identify missing values\n",
    "customers_orders.isna().sum()"
   ]
  },
  {
   "cell_type": "code",
   "execution_count": 88,
   "metadata": {},
   "outputs": [
    {
     "data": {
      "image/png": "[encoded data removed]",
      "text/plain": [
       "<Figure size 400x400 with 1 Axes>"
      ]
     },
     "metadata": {},
     "output_type": "display_data"
    }
   ],
   "source": [
    "# identify outliers\n",
    "plt.figure(figsize=(4,4))\n",
    "plt.boxplot(customers_orders.select_dtypes(include='number'))\n",
    "plt.title(\"Numerical Variable Distribution\")\n",
    "plt.show()"
   ]
  },
  {
   "cell_type": "markdown",
   "metadata": {},
   "source": [
    "**Insight:** Customers Orders dataset is the result of merging the customers dataset and orders dataset."
   ]
  },
  {
   "cell_type": "code",
   "execution_count": 89,
   "metadata": {},
   "outputs": [],
   "source": [
    "# merge customers orders dataset and products dataset\n",
    "e_commerce = pd.merge(customers_orders, products, on='product_id', how='inner')"
   ]
  },
  {
   "cell_type": "code",
   "execution_count": 90,
   "metadata": {},
   "outputs": [
    {
     "name": "stdout",
     "output_type": "stream",
     "text": [
      "<class 'pandas.core.frame.DataFrame'>\n",
      "Int64Index: 104632 entries, 0 to 104631\n",
      "Data columns (total 37 columns):\n",
      " #   Column                         Non-Null Count   Dtype         \n",
      "---  ------                         --------------   -----         \n",
      " 0   customer_id                    104632 non-null  object        \n",
      " 1   customer_unique_id             104632 non-null  object        \n",
      " 2   customer_zip_code_prefix       104632 non-null  int64         \n",
      " 3   customer_city                  104632 non-null  object        \n",
      " 4   customer_state                 104632 non-null  object        \n",
      " 5   order_id                       104632 non-null  object        \n",
      " 6   order_status                   104632 non-null  object        \n",
      " 7   order_purchase_timestamp       104632 non-null  datetime64[ns]\n",
      " 8   order_approved_at              104632 non-null  datetime64[ns]\n",
      " 9   order_delivered_carrier_date   104632 non-null  datetime64[ns]\n",
      " 10  order_delivered_customer_date  104632 non-null  datetime64[ns]\n",
      " 11  order_estimated_delivery_date  104632 non-null  datetime64[ns]\n",
      " 12  order_item_id                  104632 non-null  int64         \n",
      " 13  product_id                     104632 non-null  object        \n",
      " 14  seller_id                      104632 non-null  object        \n",
      " 15  shipping_limit_date            104632 non-null  datetime64[ns]\n",
      " 16  price                          104632 non-null  float64       \n",
      " 17  freight_value                  104632 non-null  float64       \n",
      " 18  payment_sequential             104632 non-null  int64         \n",
      " 19  payment_type                   104632 non-null  object        \n",
      " 20  payment_installments           104632 non-null  float64       \n",
      " 21  payment_value                  104632 non-null  float64       \n",
      " 22  review_id                      104632 non-null  object        \n",
      " 23  review_score                   104632 non-null  int64         \n",
      " 24  review_comment_title           104632 non-null  object        \n",
      " 25  review_comment_message         104632 non-null  object        \n",
      " 26  review_creation_date           104632 non-null  datetime64[ns]\n",
      " 27  review_answer_timestamp        104632 non-null  datetime64[ns]\n",
      " 28  product_category_name          104632 non-null  object        \n",
      " 29  product_name_lenght            104632 non-null  float64       \n",
      " 30  product_description_lenght     104632 non-null  float64       \n",
      " 31  product_photos_qty             104632 non-null  float64       \n",
      " 32  product_weight_g               104632 non-null  float64       \n",
      " 33  product_length_cm              104632 non-null  float64       \n",
      " 34  product_height_cm              104632 non-null  float64       \n",
      " 35  product_width_cm               104632 non-null  float64       \n",
      " 36  product_category_name_english  104632 non-null  object        \n",
      "dtypes: datetime64[ns](8), float64(11), int64(4), object(14)\n",
      "memory usage: 30.3+ MB\n"
     ]
    }
   ],
   "source": [
    "# identify number of rows and columns, data types\n",
    "e_commerce.info()"
   ]
  },
  {
   "cell_type": "code",
   "execution_count": 91,
   "metadata": {},
   "outputs": [
    {
     "data": {
      "text/plain": [
       "0"
      ]
     },
     "execution_count": 91,
     "metadata": {},
     "output_type": "execute_result"
    }
   ],
   "source": [
    "# identify data duplicate\n",
    "e_commerce.duplicated().sum()"
   ]
  },
  {
   "cell_type": "code",
   "execution_count": 92,
   "metadata": {},
   "outputs": [
    {
     "data": {
      "text/plain": [
       "customer_id                      0\n",
       "customer_unique_id               0\n",
       "customer_zip_code_prefix         0\n",
       "customer_city                    0\n",
       "customer_state                   0\n",
       "order_id                         0\n",
       "order_status                     0\n",
       "order_purchase_timestamp         0\n",
       "order_approved_at                0\n",
       "order_delivered_carrier_date     0\n",
       "order_delivered_customer_date    0\n",
       "order_estimated_delivery_date    0\n",
       "order_item_id                    0\n",
       "product_id                       0\n",
       "seller_id                        0\n",
       "shipping_limit_date              0\n",
       "price                            0\n",
       "freight_value                    0\n",
       "payment_sequential               0\n",
       "payment_type                     0\n",
       "payment_installments             0\n",
       "payment_value                    0\n",
       "review_id                        0\n",
       "review_score                     0\n",
       "review_comment_title             0\n",
       "review_comment_message           0\n",
       "review_creation_date             0\n",
       "review_answer_timestamp          0\n",
       "product_category_name            0\n",
       "product_name_lenght              0\n",
       "product_description_lenght       0\n",
       "product_photos_qty               0\n",
       "product_weight_g                 0\n",
       "product_length_cm                0\n",
       "product_height_cm                0\n",
       "product_width_cm                 0\n",
       "product_category_name_english    0\n",
       "dtype: int64"
      ]
     },
     "execution_count": 92,
     "metadata": {},
     "output_type": "execute_result"
    }
   ],
   "source": [
    "# identify missing values\n",
    "e_commerce.isna().sum()"
   ]
  },
  {
   "cell_type": "code",
   "execution_count": 93,
   "metadata": {},
   "outputs": [
    {
     "data": {
      "image/png": "[encoded data removed]",
      "text/plain": [
       "<Figure size 400x400 with 1 Axes>"
      ]
     },
     "metadata": {},
     "output_type": "display_data"
    }
   ],
   "source": [
    "# identify outliers\n",
    "plt.figure(figsize=(4,4))\n",
    "plt.boxplot(e_commerce.select_dtypes(include='number'))\n",
    "plt.title(\"Numerical Variable Distribution\")\n",
    "plt.show()"
   ]
  },
  {
   "cell_type": "code",
   "execution_count": 94,
   "metadata": {},
   "outputs": [],
   "source": [
    "# handle some outliers with imputation method\n",
    "features = ['product_weight_g', 'product_height_cm']\n",
    "\n",
    "for feature in features:\n",
    "    Q1 = e_commerce[feature].quantile(0.25)\n",
    "    Q3 = e_commerce[feature].quantile(0.75)\n",
    "    IQR = Q3 - Q1\n",
    "    \n",
    "    maximum = Q3 + (1.5 * IQR)\n",
    "    minimum = Q1 - (1.5 * IQR)\n",
    "    \n",
    "    kondisi_lower_than = e_commerce[feature] < minimum\n",
    "    kondisi_more_than = e_commerce[feature] > maximum\n",
    "    \n",
    "    e_commerce[feature] = e_commerce[feature].where(~kondisi_more_than, other=maximum)\n",
    "    e_commerce[feature] = e_commerce[feature].where(~kondisi_lower_than, other=minimum)"
   ]
  },
  {
   "cell_type": "code",
   "execution_count": 95,
   "metadata": {},
   "outputs": [
    {
     "data": {
      "image/png": "[encoded data removed]",
      "text/plain": [
       "<Figure size 400x400 with 1 Axes>"
      ]
     },
     "metadata": {},
     "output_type": "display_data"
    }
   ],
   "source": [
    "plt.figure(figsize=(4,4))\n",
    "plt.boxplot(e_commerce.select_dtypes(include='number'))\n",
    "plt.title(\"Numerical Variable Distribution\")\n",
    "plt.show()"
   ]
  },
  {
   "cell_type": "markdown",
   "metadata": {},
   "source": [
    "**Insight:** E_Commerce dataset is the result of merging the customers dataset, orders dataset, and products dataset."
   ]
  },
  {
   "cell_type": "markdown",
   "metadata": {},
   "source": [
    "### Save the E-Commerce Dataset"
   ]
  },
  {
   "cell_type": "code",
   "execution_count": 96,
   "metadata": {},
   "outputs": [],
   "source": [
    "# save the e_commerce dataset\n",
    "e_commerce.to_csv('C:/Users/aniqo/Projects/Submission/e_commerce.csv')"
   ]
  },
  {
   "cell_type": "markdown",
   "metadata": {
    "id": "gp-Y6wU38DC1"
   },
   "source": [
    "## Exploratory Data Analysis (EDA)"
   ]
  },
  {
   "cell_type": "code",
   "execution_count": 97,
   "metadata": {},
   "outputs": [
    {
     "name": "stderr",
     "output_type": "stream",
     "text": [
      "C:\\Users\\aniqo\\AppData\\Local\\Temp\\ipykernel_17308\\2079209297.py:2: FutureWarning: Treating datetime data as categorical rather than numeric in `.describe` is deprecated and will be removed in a future version of pandas. Specify `datetime_is_numeric=True` to silence this warning and adopt the future behavior now.\n",
      "  e_commerce.describe(include='all')\n",
      "C:\\Users\\aniqo\\AppData\\Local\\Temp\\ipykernel_17308\\2079209297.py:2: FutureWarning: Treating datetime data as categorical rather than numeric in `.describe` is deprecated and will be removed in a future version of pandas. Specify `datetime_is_numeric=True` to silence this warning and adopt the future behavior now.\n",
      "  e_commerce.describe(include='all')\n",
      "C:\\Users\\aniqo\\AppData\\Local\\Temp\\ipykernel_17308\\2079209297.py:2: FutureWarning: Treating datetime data as categorical rather than numeric in `.describe` is deprecated and will be removed in a future version of pandas. Specify `datetime_is_numeric=True` to silence this warning and adopt the future behavior now.\n",
      "  e_commerce.describe(include='all')\n",
      "C:\\Users\\aniqo\\AppData\\Local\\Temp\\ipykernel_17308\\2079209297.py:2: FutureWarning: Treating datetime data as categorical rather than numeric in `.describe` is deprecated and will be removed in a future version of pandas. Specify `datetime_is_numeric=True` to silence this warning and adopt the future behavior now.\n",
      "  e_commerce.describe(include='all')\n",
      "C:\\Users\\aniqo\\AppData\\Local\\Temp\\ipykernel_17308\\2079209297.py:2: FutureWarning: Treating datetime data as categorical rather than numeric in `.describe` is deprecated and will be removed in a future version of pandas. Specify `datetime_is_numeric=True` to silence this warning and adopt the future behavior now.\n",
      "  e_commerce.describe(include='all')\n",
      "C:\\Users\\aniqo\\AppData\\Local\\Temp\\ipykernel_17308\\2079209297.py:2: FutureWarning: Treating datetime data as categorical rather than numeric in `.describe` is deprecated and will be removed in a future version of pandas. Specify `datetime_is_numeric=True` to silence this warning and adopt the future behavior now.\n",
      "  e_commerce.describe(include='all')\n",
      "C:\\Users\\aniqo\\AppData\\Local\\Temp\\ipykernel_17308\\2079209297.py:2: FutureWarning: Treating datetime data as categorical rather than numeric in `.describe` is deprecated and will be removed in a future version of pandas. Specify `datetime_is_numeric=True` to silence this warning and adopt the future behavior now.\n",
      "  e_commerce.describe(include='all')\n",
      "C:\\Users\\aniqo\\AppData\\Local\\Temp\\ipykernel_17308\\2079209297.py:2: FutureWarning: Treating datetime data as categorical rather than numeric in `.describe` is deprecated and will be removed in a future version of pandas. Specify `datetime_is_numeric=True` to silence this warning and adopt the future behavior now.\n",
      "  e_commerce.describe(include='all')\n"
     ]
    },
    {
     "data": {
      "text/html": [
       "<div>\n",
       "<style scoped>\n",
       "    .dataframe tbody tr th:only-of-type {\n",
       "        vertical-align: middle;\n",
       "    }\n",
       "\n",
       "    .dataframe tbody tr th {\n",
       "        vertical-align: top;\n",
       "    }\n",
       "\n",
       "    .dataframe thead th {\n",
       "        text-align: right;\n",
       "    }\n",
       "</style>\n",
       "<table border=\"1\" class=\"dataframe\">\n",
       "  <thead>\n",
       "    <tr style=\"text-align: right;\">\n",
       "      <th></th>\n",
       "      <th>customer_id</th>\n",
       "      <th>customer_unique_id</th>\n",
       "      <th>customer_zip_code_prefix</th>\n",
       "      <th>customer_city</th>\n",
       "      <th>customer_state</th>\n",
       "      <th>order_id</th>\n",
       "      <th>order_status</th>\n",
       "      <th>order_purchase_timestamp</th>\n",
       "      <th>order_approved_at</th>\n",
       "      <th>order_delivered_carrier_date</th>\n",
       "      <th>...</th>\n",
       "      <th>review_answer_timestamp</th>\n",
       "      <th>product_category_name</th>\n",
       "      <th>product_name_lenght</th>\n",
       "      <th>product_description_lenght</th>\n",
       "      <th>product_photos_qty</th>\n",
       "      <th>product_weight_g</th>\n",
       "      <th>product_length_cm</th>\n",
       "      <th>product_height_cm</th>\n",
       "      <th>product_width_cm</th>\n",
       "      <th>product_category_name_english</th>\n",
       "    </tr>\n",
       "  </thead>\n",
       "  <tbody>\n",
       "    <tr>\n",
       "      <th>count</th>\n",
       "      <td>104632</td>\n",
       "      <td>104632</td>\n",
       "      <td>104632.000000</td>\n",
       "      <td>104632</td>\n",
       "      <td>104632</td>\n",
       "      <td>104632</td>\n",
       "      <td>104632</td>\n",
       "      <td>104632</td>\n",
       "      <td>104632</td>\n",
       "      <td>104632</td>\n",
       "      <td>...</td>\n",
       "      <td>104632</td>\n",
       "      <td>104632</td>\n",
       "      <td>104632.000000</td>\n",
       "      <td>104632.000000</td>\n",
       "      <td>104632.000000</td>\n",
       "      <td>104632.000000</td>\n",
       "      <td>104632.000000</td>\n",
       "      <td>104632.000000</td>\n",
       "      <td>104632.000000</td>\n",
       "      <td>104632</td>\n",
       "    </tr>\n",
       "    <tr>\n",
       "      <th>unique</th>\n",
       "      <td>96516</td>\n",
       "      <td>93396</td>\n",
       "      <td>NaN</td>\n",
       "      <td>4093</td>\n",
       "      <td>27</td>\n",
       "      <td>96516</td>\n",
       "      <td>7</td>\n",
       "      <td>95989</td>\n",
       "      <td>88332</td>\n",
       "      <td>79258</td>\n",
       "      <td>...</td>\n",
       "      <td>96163</td>\n",
       "      <td>71</td>\n",
       "      <td>NaN</td>\n",
       "      <td>NaN</td>\n",
       "      <td>NaN</td>\n",
       "      <td>NaN</td>\n",
       "      <td>NaN</td>\n",
       "      <td>NaN</td>\n",
       "      <td>NaN</td>\n",
       "      <td>71</td>\n",
       "    </tr>\n",
       "    <tr>\n",
       "      <th>top</th>\n",
       "      <td>9af2372a1e49340278e7c1ef8d749f34</td>\n",
       "      <td>8af7ac63b2efbcbd88e5b11505e8098a</td>\n",
       "      <td>NaN</td>\n",
       "      <td>sao paulo</td>\n",
       "      <td>SP</td>\n",
       "      <td>fa65dad1b0e818e3ccc5cb0e39231352</td>\n",
       "      <td>delivered</td>\n",
       "      <td>2017-04-20 12:45:34</td>\n",
       "      <td>2017-04-22 09:10:13</td>\n",
       "      <td>2018-05-09 15:48:00</td>\n",
       "      <td>...</td>\n",
       "      <td>2017-05-24 16:21:27</td>\n",
       "      <td>cama_mesa_banho</td>\n",
       "      <td>NaN</td>\n",
       "      <td>NaN</td>\n",
       "      <td>NaN</td>\n",
       "      <td>NaN</td>\n",
       "      <td>NaN</td>\n",
       "      <td>NaN</td>\n",
       "      <td>NaN</td>\n",
       "      <td>bed_bath_table</td>\n",
       "    </tr>\n",
       "    <tr>\n",
       "      <th>freq</th>\n",
       "      <td>25</td>\n",
       "      <td>25</td>\n",
       "      <td>NaN</td>\n",
       "      <td>16379</td>\n",
       "      <td>44008</td>\n",
       "      <td>25</td>\n",
       "      <td>102455</td>\n",
       "      <td>25</td>\n",
       "      <td>25</td>\n",
       "      <td>47</td>\n",
       "      <td>...</td>\n",
       "      <td>25</td>\n",
       "      <td>10749</td>\n",
       "      <td>NaN</td>\n",
       "      <td>NaN</td>\n",
       "      <td>NaN</td>\n",
       "      <td>NaN</td>\n",
       "      <td>NaN</td>\n",
       "      <td>NaN</td>\n",
       "      <td>NaN</td>\n",
       "      <td>10749</td>\n",
       "    </tr>\n",
       "    <tr>\n",
       "      <th>first</th>\n",
       "      <td>NaN</td>\n",
       "      <td>NaN</td>\n",
       "      <td>NaN</td>\n",
       "      <td>NaN</td>\n",
       "      <td>NaN</td>\n",
       "      <td>NaN</td>\n",
       "      <td>NaN</td>\n",
       "      <td>2016-09-04 21:15:19</td>\n",
       "      <td>2016-10-04 09:43:32</td>\n",
       "      <td>2016-10-08 10:34:01</td>\n",
       "      <td>...</td>\n",
       "      <td>2016-10-16 03:20:17</td>\n",
       "      <td>NaN</td>\n",
       "      <td>NaN</td>\n",
       "      <td>NaN</td>\n",
       "      <td>NaN</td>\n",
       "      <td>NaN</td>\n",
       "      <td>NaN</td>\n",
       "      <td>NaN</td>\n",
       "      <td>NaN</td>\n",
       "      <td>NaN</td>\n",
       "    </tr>\n",
       "    <tr>\n",
       "      <th>last</th>\n",
       "      <td>NaN</td>\n",
       "      <td>NaN</td>\n",
       "      <td>NaN</td>\n",
       "      <td>NaN</td>\n",
       "      <td>NaN</td>\n",
       "      <td>NaN</td>\n",
       "      <td>NaN</td>\n",
       "      <td>2018-09-03 09:06:57</td>\n",
       "      <td>2018-09-03 17:40:06</td>\n",
       "      <td>2018-09-11 19:48:28</td>\n",
       "      <td>...</td>\n",
       "      <td>2018-10-29 12:27:35</td>\n",
       "      <td>NaN</td>\n",
       "      <td>NaN</td>\n",
       "      <td>NaN</td>\n",
       "      <td>NaN</td>\n",
       "      <td>NaN</td>\n",
       "      <td>NaN</td>\n",
       "      <td>NaN</td>\n",
       "      <td>NaN</td>\n",
       "      <td>NaN</td>\n",
       "    </tr>\n",
       "    <tr>\n",
       "      <th>mean</th>\n",
       "      <td>NaN</td>\n",
       "      <td>NaN</td>\n",
       "      <td>35069.338204</td>\n",
       "      <td>NaN</td>\n",
       "      <td>NaN</td>\n",
       "      <td>NaN</td>\n",
       "      <td>NaN</td>\n",
       "      <td>NaN</td>\n",
       "      <td>NaN</td>\n",
       "      <td>NaN</td>\n",
       "      <td>...</td>\n",
       "      <td>NaN</td>\n",
       "      <td>NaN</td>\n",
       "      <td>48.894626</td>\n",
       "      <td>738.133797</td>\n",
       "      <td>2.173991</td>\n",
       "      <td>1307.997300</td>\n",
       "      <td>29.680498</td>\n",
       "      <td>15.346232</td>\n",
       "      <td>22.846120</td>\n",
       "      <td>NaN</td>\n",
       "    </tr>\n",
       "    <tr>\n",
       "      <th>std</th>\n",
       "      <td>NaN</td>\n",
       "      <td>NaN</td>\n",
       "      <td>29768.211974</td>\n",
       "      <td>NaN</td>\n",
       "      <td>NaN</td>\n",
       "      <td>NaN</td>\n",
       "      <td>NaN</td>\n",
       "      <td>NaN</td>\n",
       "      <td>NaN</td>\n",
       "      <td>NaN</td>\n",
       "      <td>...</td>\n",
       "      <td>NaN</td>\n",
       "      <td>NaN</td>\n",
       "      <td>9.929033</td>\n",
       "      <td>506.673789</td>\n",
       "      <td>1.535764</td>\n",
       "      <td>1351.214321</td>\n",
       "      <td>14.328705</td>\n",
       "      <td>9.893220</td>\n",
       "      <td>10.704869</td>\n",
       "      <td>NaN</td>\n",
       "    </tr>\n",
       "    <tr>\n",
       "      <th>min</th>\n",
       "      <td>NaN</td>\n",
       "      <td>NaN</td>\n",
       "      <td>1003.000000</td>\n",
       "      <td>NaN</td>\n",
       "      <td>NaN</td>\n",
       "      <td>NaN</td>\n",
       "      <td>NaN</td>\n",
       "      <td>NaN</td>\n",
       "      <td>NaN</td>\n",
       "      <td>NaN</td>\n",
       "      <td>...</td>\n",
       "      <td>NaN</td>\n",
       "      <td>NaN</td>\n",
       "      <td>19.500000</td>\n",
       "      <td>4.000000</td>\n",
       "      <td>1.000000</td>\n",
       "      <td>0.000000</td>\n",
       "      <td>7.000000</td>\n",
       "      <td>2.000000</td>\n",
       "      <td>6.000000</td>\n",
       "      <td>NaN</td>\n",
       "    </tr>\n",
       "    <tr>\n",
       "      <th>25%</th>\n",
       "      <td>NaN</td>\n",
       "      <td>NaN</td>\n",
       "      <td>11345.000000</td>\n",
       "      <td>NaN</td>\n",
       "      <td>NaN</td>\n",
       "      <td>NaN</td>\n",
       "      <td>NaN</td>\n",
       "      <td>NaN</td>\n",
       "      <td>NaN</td>\n",
       "      <td>NaN</td>\n",
       "      <td>...</td>\n",
       "      <td>NaN</td>\n",
       "      <td>NaN</td>\n",
       "      <td>42.000000</td>\n",
       "      <td>347.000000</td>\n",
       "      <td>1.000000</td>\n",
       "      <td>300.000000</td>\n",
       "      <td>18.000000</td>\n",
       "      <td>8.000000</td>\n",
       "      <td>15.000000</td>\n",
       "      <td>NaN</td>\n",
       "    </tr>\n",
       "    <tr>\n",
       "      <th>50%</th>\n",
       "      <td>NaN</td>\n",
       "      <td>NaN</td>\n",
       "      <td>24358.000000</td>\n",
       "      <td>NaN</td>\n",
       "      <td>NaN</td>\n",
       "      <td>NaN</td>\n",
       "      <td>NaN</td>\n",
       "      <td>NaN</td>\n",
       "      <td>NaN</td>\n",
       "      <td>NaN</td>\n",
       "      <td>...</td>\n",
       "      <td>NaN</td>\n",
       "      <td>NaN</td>\n",
       "      <td>52.000000</td>\n",
       "      <td>601.000000</td>\n",
       "      <td>2.000000</td>\n",
       "      <td>700.000000</td>\n",
       "      <td>25.000000</td>\n",
       "      <td>13.000000</td>\n",
       "      <td>20.000000</td>\n",
       "      <td>NaN</td>\n",
       "    </tr>\n",
       "    <tr>\n",
       "      <th>75%</th>\n",
       "      <td>NaN</td>\n",
       "      <td>NaN</td>\n",
       "      <td>58430.000000</td>\n",
       "      <td>NaN</td>\n",
       "      <td>NaN</td>\n",
       "      <td>NaN</td>\n",
       "      <td>NaN</td>\n",
       "      <td>NaN</td>\n",
       "      <td>NaN</td>\n",
       "      <td>NaN</td>\n",
       "      <td>...</td>\n",
       "      <td>NaN</td>\n",
       "      <td>NaN</td>\n",
       "      <td>57.000000</td>\n",
       "      <td>983.000000</td>\n",
       "      <td>3.000000</td>\n",
       "      <td>1800.000000</td>\n",
       "      <td>38.000000</td>\n",
       "      <td>20.000000</td>\n",
       "      <td>30.000000</td>\n",
       "      <td>NaN</td>\n",
       "    </tr>\n",
       "    <tr>\n",
       "      <th>max</th>\n",
       "      <td>NaN</td>\n",
       "      <td>NaN</td>\n",
       "      <td>99980.000000</td>\n",
       "      <td>NaN</td>\n",
       "      <td>NaN</td>\n",
       "      <td>NaN</td>\n",
       "      <td>NaN</td>\n",
       "      <td>NaN</td>\n",
       "      <td>NaN</td>\n",
       "      <td>NaN</td>\n",
       "      <td>...</td>\n",
       "      <td>NaN</td>\n",
       "      <td>NaN</td>\n",
       "      <td>76.000000</td>\n",
       "      <td>1921.500000</td>\n",
       "      <td>6.000000</td>\n",
       "      <td>4050.000000</td>\n",
       "      <td>68.000000</td>\n",
       "      <td>38.000000</td>\n",
       "      <td>52.500000</td>\n",
       "      <td>NaN</td>\n",
       "    </tr>\n",
       "  </tbody>\n",
       "</table>\n",
       "<p>13 rows × 37 columns</p>\n",
       "</div>"
      ],
      "text/plain": [
       "                             customer_id                customer_unique_id  \\\n",
       "count                             104632                            104632   \n",
       "unique                             96516                             93396   \n",
       "top     9af2372a1e49340278e7c1ef8d749f34  8af7ac63b2efbcbd88e5b11505e8098a   \n",
       "freq                                  25                                25   \n",
       "first                                NaN                               NaN   \n",
       "last                                 NaN                               NaN   \n",
       "mean                                 NaN                               NaN   \n",
       "std                                  NaN                               NaN   \n",
       "min                                  NaN                               NaN   \n",
       "25%                                  NaN                               NaN   \n",
       "50%                                  NaN                               NaN   \n",
       "75%                                  NaN                               NaN   \n",
       "max                                  NaN                               NaN   \n",
       "\n",
       "        customer_zip_code_prefix customer_city customer_state  \\\n",
       "count              104632.000000        104632         104632   \n",
       "unique                       NaN          4093             27   \n",
       "top                          NaN     sao paulo             SP   \n",
       "freq                         NaN         16379          44008   \n",
       "first                        NaN           NaN            NaN   \n",
       "last                         NaN           NaN            NaN   \n",
       "mean                35069.338204           NaN            NaN   \n",
       "std                 29768.211974           NaN            NaN   \n",
       "min                  1003.000000           NaN            NaN   \n",
       "25%                 11345.000000           NaN            NaN   \n",
       "50%                 24358.000000           NaN            NaN   \n",
       "75%                 58430.000000           NaN            NaN   \n",
       "max                 99980.000000           NaN            NaN   \n",
       "\n",
       "                                order_id order_status  \\\n",
       "count                             104632       104632   \n",
       "unique                             96516            7   \n",
       "top     fa65dad1b0e818e3ccc5cb0e39231352    delivered   \n",
       "freq                                  25       102455   \n",
       "first                                NaN          NaN   \n",
       "last                                 NaN          NaN   \n",
       "mean                                 NaN          NaN   \n",
       "std                                  NaN          NaN   \n",
       "min                                  NaN          NaN   \n",
       "25%                                  NaN          NaN   \n",
       "50%                                  NaN          NaN   \n",
       "75%                                  NaN          NaN   \n",
       "max                                  NaN          NaN   \n",
       "\n",
       "       order_purchase_timestamp    order_approved_at  \\\n",
       "count                    104632               104632   \n",
       "unique                    95989                88332   \n",
       "top         2017-04-20 12:45:34  2017-04-22 09:10:13   \n",
       "freq                         25                   25   \n",
       "first       2016-09-04 21:15:19  2016-10-04 09:43:32   \n",
       "last        2018-09-03 09:06:57  2018-09-03 17:40:06   \n",
       "mean                        NaN                  NaN   \n",
       "std                         NaN                  NaN   \n",
       "min                         NaN                  NaN   \n",
       "25%                         NaN                  NaN   \n",
       "50%                         NaN                  NaN   \n",
       "75%                         NaN                  NaN   \n",
       "max                         NaN                  NaN   \n",
       "\n",
       "       order_delivered_carrier_date  ... review_answer_timestamp  \\\n",
       "count                        104632  ...                  104632   \n",
       "unique                        79258  ...                   96163   \n",
       "top             2018-05-09 15:48:00  ...     2017-05-24 16:21:27   \n",
       "freq                             47  ...                      25   \n",
       "first           2016-10-08 10:34:01  ...     2016-10-16 03:20:17   \n",
       "last            2018-09-11 19:48:28  ...     2018-10-29 12:27:35   \n",
       "mean                            NaN  ...                     NaN   \n",
       "std                             NaN  ...                     NaN   \n",
       "min                             NaN  ...                     NaN   \n",
       "25%                             NaN  ...                     NaN   \n",
       "50%                             NaN  ...                     NaN   \n",
       "75%                             NaN  ...                     NaN   \n",
       "max                             NaN  ...                     NaN   \n",
       "\n",
       "       product_category_name  product_name_lenght product_description_lenght  \\\n",
       "count                 104632        104632.000000              104632.000000   \n",
       "unique                    71                  NaN                        NaN   \n",
       "top          cama_mesa_banho                  NaN                        NaN   \n",
       "freq                   10749                  NaN                        NaN   \n",
       "first                    NaN                  NaN                        NaN   \n",
       "last                     NaN                  NaN                        NaN   \n",
       "mean                     NaN            48.894626                 738.133797   \n",
       "std                      NaN             9.929033                 506.673789   \n",
       "min                      NaN            19.500000                   4.000000   \n",
       "25%                      NaN            42.000000                 347.000000   \n",
       "50%                      NaN            52.000000                 601.000000   \n",
       "75%                      NaN            57.000000                 983.000000   \n",
       "max                      NaN            76.000000                1921.500000   \n",
       "\n",
       "       product_photos_qty product_weight_g  product_length_cm  \\\n",
       "count       104632.000000    104632.000000      104632.000000   \n",
       "unique                NaN              NaN                NaN   \n",
       "top                   NaN              NaN                NaN   \n",
       "freq                  NaN              NaN                NaN   \n",
       "first                 NaN              NaN                NaN   \n",
       "last                  NaN              NaN                NaN   \n",
       "mean             2.173991      1307.997300          29.680498   \n",
       "std              1.535764      1351.214321          14.328705   \n",
       "min              1.000000         0.000000           7.000000   \n",
       "25%              1.000000       300.000000          18.000000   \n",
       "50%              2.000000       700.000000          25.000000   \n",
       "75%              3.000000      1800.000000          38.000000   \n",
       "max              6.000000      4050.000000          68.000000   \n",
       "\n",
       "        product_height_cm  product_width_cm product_category_name_english  \n",
       "count       104632.000000     104632.000000                        104632  \n",
       "unique                NaN               NaN                            71  \n",
       "top                   NaN               NaN                bed_bath_table  \n",
       "freq                  NaN               NaN                         10749  \n",
       "first                 NaN               NaN                           NaN  \n",
       "last                  NaN               NaN                           NaN  \n",
       "mean            15.346232         22.846120                           NaN  \n",
       "std              9.893220         10.704869                           NaN  \n",
       "min              2.000000          6.000000                           NaN  \n",
       "25%              8.000000         15.000000                           NaN  \n",
       "50%             13.000000         20.000000                           NaN  \n",
       "75%             20.000000         30.000000                           NaN  \n",
       "max             38.000000         52.500000                           NaN  \n",
       "\n",
       "[13 rows x 37 columns]"
      ]
     },
     "execution_count": 97,
     "metadata": {},
     "output_type": "execute_result"
    }
   ],
   "source": [
    "# descriptive analysis\n",
    "e_commerce.describe(include='all')"
   ]
  },
  {
   "cell_type": "code",
   "execution_count": 98,
   "metadata": {
    "id": "e9CQCZjk8DC2"
   },
   "outputs": [
    {
     "name": "stderr",
     "output_type": "stream",
     "text": [
      "C:\\Users\\aniqo\\AppData\\Local\\Temp\\ipykernel_17308\\1835915941.py:3: FutureWarning: The default value of numeric_only in DataFrame.corr is deprecated. In a future version, it will default to False. Select only valid columns or specify the value of numeric_only to silence this warning.\n",
      "  sns.heatmap(e_commerce.corr(), annot=True, fmt='.2f', cmap='coolwarm')\n"
     ]
    },
    {
     "data": {
      "image/png": "[encoded data removed]",
      "text/plain": [
       "<Figure size 1200x800 with 2 Axes>"
      ]
     },
     "metadata": {},
     "output_type": "display_data"
    }
   ],
   "source": [
    "# correlation heatmap of numerical variables\n",
    "plt.figure(figsize=(12, 8))\n",
    "sns.heatmap(e_commerce.corr(), annot=True, fmt='.2f', cmap='coolwarm')\n",
    "plt.title('Correlation Heatmap of Numerical Variables')\n",
    "plt.show()"
   ]
  },
  {
   "cell_type": "markdown",
   "metadata": {
    "id": "th_Lzl2Fkj9O"
   },
   "source": [
    "**Insight:**\n",
    "- There is a strong positive correlation between the 'price' feature and the 'payment_value' feature. As product prices increase, the total payment value tends to increase as well.\n",
    "- A strong positive correlation exists between the 'product_weight_g' feature and the 'freight_value' feature. Increased product weight generally results in higher shipping costs."
   ]
  },
  {
   "cell_type": "markdown",
   "metadata": {
    "id": "zsyZjqak8DC2"
   },
   "source": [
    "## Visualization & Explanatory Analysis"
   ]
  },
  {
   "cell_type": "markdown",
   "metadata": {
    "id": "HZxOiQ6n8DC2"
   },
   "source": [
    "### Question 1: How many e-commerce customers were there from 2016 to 2018?"
   ]
  },
  {
   "cell_type": "code",
   "execution_count": 99,
   "metadata": {
    "id": "1swJUdAD8DC2"
   },
   "outputs": [
    {
     "name": "stdout",
     "output_type": "stream",
     "text": [
      "The number of e-commerce customers from 2016 to 2018 are 93396\n"
     ]
    }
   ],
   "source": [
    "number_of_customers = e_commerce['customer_unique_id'].nunique()\n",
    "print('The number of e-commerce customers from 2016 to 2018 are', number_of_customers)"
   ]
  },
  {
   "cell_type": "markdown",
   "metadata": {
    "id": "DgHI7CiU8DC2"
   },
   "source": [
    "### Question 2: How many orders were there from 2016 to 2018?"
   ]
  },
  {
   "cell_type": "code",
   "execution_count": 100,
   "metadata": {
    "id": "Go0lCsvO8DC2"
   },
   "outputs": [
    {
     "name": "stdout",
     "output_type": "stream",
     "text": [
      "The number of orders from 2016 to 2018 are 96516\n"
     ]
    }
   ],
   "source": [
    "number_of_orders = e_commerce['order_id'].nunique()\n",
    "print('The number of orders from 2016 to 2018 are', number_of_orders)"
   ]
  },
  {
   "cell_type": "markdown",
   "metadata": {},
   "source": [
    "### Question 3: What was the average e-commerce revenue from 2016 to 2018?"
   ]
  },
  {
   "cell_type": "code",
   "execution_count": 101,
   "metadata": {},
   "outputs": [
    {
     "name": "stdout",
     "output_type": "stream",
     "text": [
      "The average e-commerce revenue from 2016 to 2018 is 131.17315250114692\n"
     ]
    }
   ],
   "source": [
    "avg_revenue = e_commerce['payment_value'].mean()\n",
    "print('The average e-commerce revenue from 2016 to 2018 is', avg_revenue)"
   ]
  },
  {
   "cell_type": "markdown",
   "metadata": {},
   "source": [
    "### Question 4: What was the e-commerce revenue in 2016, 2017, and 2018?"
   ]
  },
  {
   "cell_type": "code",
   "execution_count": 102,
   "metadata": {
    "scrolled": true
   },
   "outputs": [
    {
     "data": {
      "image/png": "[encoded data removed]",
      "text/plain": [
       "<Figure size 1000x600 with 1 Axes>"
      ]
     },
     "metadata": {},
     "output_type": "display_data"
    },
    {
     "name": "stdout",
     "output_type": "stream",
     "text": [
      "   year  payment_value\n",
      "0  2016   4.968019e+04\n",
      "1  2017   6.158359e+06\n",
      "2  2018   7.516870e+06\n"
     ]
    }
   ],
   "source": [
    "e_commerce['year'] = e_commerce['order_purchase_timestamp'].dt.year\n",
    "e_commerce_filtered = e_commerce[e_commerce['year'].isin([2016, 2017, 2018])]\n",
    "e_commerce_grouped = e_commerce_filtered.groupby('year')['payment_value'].sum().reset_index()\n",
    "\n",
    "plt.figure(figsize=(10, 6))\n",
    "plt.plot(e_commerce_grouped['year'], e_commerce_grouped['payment_value'])\n",
    "plt.title('Revenue per Year (2016-2018)')\n",
    "plt.xlabel('Year')\n",
    "plt.ylabel('Revenue')\n",
    "plt.xticks(e_commerce_grouped['year'])\n",
    "plt.show()\n",
    "\n",
    "print(e_commerce_grouped)"
   ]
  },
  {
   "cell_type": "markdown",
   "metadata": {},
   "source": [
    "### Question 5: What was the average e-commerce customer satisfaction from 2016 to 2018?"
   ]
  },
  {
   "cell_type": "code",
   "execution_count": 103,
   "metadata": {},
   "outputs": [
    {
     "name": "stdout",
     "output_type": "stream",
     "text": [
      "The average e-commerce reviews score from 2016 to 2018 is 4.076420215612814\n"
     ]
    }
   ],
   "source": [
    "avg_reviews_score = e_commerce['review_score'].mean()\n",
    "print('The average e-commerce reviews score from 2016 to 2018 is', avg_reviews_score)"
   ]
  },
  {
   "cell_type": "markdown",
   "metadata": {},
   "source": [
    "### Question 6: What was the distribution of e-commerce customer satisfaction in 2016, 2017, and 2018?"
   ]
  },
  {
   "cell_type": "code",
   "execution_count": 104,
   "metadata": {},
   "outputs": [
    {
     "data": {
      "image/png": "[encoded data removed]",
      "text/plain": [
       "<Figure size 1200x800 with 1 Axes>"
      ]
     },
     "metadata": {},
     "output_type": "display_data"
    },
    {
     "name": "stdout",
     "output_type": "stream",
     "text": [
      "review_score     1     2     3      4      5\n",
      "year                                        \n",
      "2016            80    13    26     53    171\n",
      "2017          5273  1604  4090   9332  27271\n",
      "2018          6801  1864  4642  10676  32736\n"
     ]
    }
   ],
   "source": [
    "e_commerce['year'] = e_commerce['order_purchase_timestamp'].dt.year\n",
    "e_commerce_filtered = e_commerce[e_commerce['year'].isin([2016, 2017, 2018])]\n",
    "e_commerce_grouped = (e_commerce_filtered.groupby(['year', 'review_score']).size().unstack(fill_value=0))\n",
    "\n",
    "review_scores = e_commerce_grouped.columns\n",
    "years = e_commerce_grouped.index\n",
    "\n",
    "x = np.arange(len(years))\n",
    "width = 0.15 \n",
    "\n",
    "plt.figure(figsize=(12, 8))\n",
    "for i, score in enumerate(review_scores):\n",
    "    plt.bar(x + i * width, e_commerce_grouped[score], width, label=f'Review Score {score}')\n",
    "\n",
    "plt.title('Review Score per Year (2016-2018)')\n",
    "plt.xlabel('Year')\n",
    "plt.ylabel('Number of Reviews', fontsize=12)\n",
    "plt.xticks(x + width * (len(review_scores) - 1) / 2, years)\n",
    "plt.legend(title='Review Score', fontsize=10)\n",
    "plt.show()\n",
    "\n",
    "print(e_commerce_grouped)"
   ]
  },
  {
   "cell_type": "markdown",
   "metadata": {},
   "source": [
    "### Question 7: What was the distribution of payment method preferences in 2016, 2017, and 2018?"
   ]
  },
  {
   "cell_type": "code",
   "execution_count": 105,
   "metadata": {},
   "outputs": [
    {
     "data": {
      "image/png": "[encoded data removed]",
      "text/plain": [
       "<Figure size 1200x800 with 1 Axes>"
      ]
     },
     "metadata": {},
     "output_type": "display_data"
    },
    {
     "name": "stdout",
     "output_type": "stream",
     "text": [
      "payment_type  boleto  credit_card  debit_card  voucher\n",
      "year                                                  \n",
      "2016              59          262           1       21\n",
      "2017            9538        34873         426     2733\n",
      "2018           10389        42785        1128     2417\n"
     ]
    }
   ],
   "source": [
    "e_commerce['year'] = e_commerce['order_purchase_timestamp'].dt.year\n",
    "e_commerce_filtered = e_commerce[e_commerce['year'].isin([2016, 2017, 2018])]\n",
    "e_commerce_grouped = (e_commerce_filtered.groupby(['year', 'payment_type']).size().unstack(fill_value=0))\n",
    "\n",
    "payments_types = e_commerce_grouped.columns\n",
    "years = e_commerce_grouped.index\n",
    "\n",
    "x = np.arange(len(years))\n",
    "width = 0.15 \n",
    "\n",
    "plt.figure(figsize=(12, 8))\n",
    "for i, types in enumerate(payments_types):\n",
    "    plt.bar(x + i * width, e_commerce_grouped[types], width, label=f'Payment types {types}')\n",
    "\n",
    "plt.title('Payment Type per Year (2016-2018)')\n",
    "plt.xlabel('Year')\n",
    "plt.ylabel('Number of Transactions', fontsize=12)\n",
    "plt.xticks(x + width * (len(payments_types) - 1) / 2, years)\n",
    "plt.legend(title='Payment Type', fontsize=10)\n",
    "plt.show()\n",
    "\n",
    "print(e_commerce_grouped)"
   ]
  },
  {
   "cell_type": "markdown",
   "metadata": {
    "id": "_0-36BDLklRg"
   },
   "source": [
    "**Insight:**\n",
    "- There were 93,396 customers from 2016 to 2018. 3% repurchased.\n",
    "- The number of orders from 2016 to 2018 was 96,516.\n",
    "- The average revenue from 2016 to 2018 was 131.17.\n",
    "- The average review score from 2016 to 2018 was 4.07."
   ]
  },
  {
   "cell_type": "markdown",
   "metadata": {
    "id": "9y4VUsmcYNZ5"
   },
   "source": [
    "## Customer Segmentation Based on Payment Value"
   ]
  },
  {
   "cell_type": "code",
   "execution_count": 106,
   "metadata": {
    "id": "iWhnzsJGYUCO"
   },
   "outputs": [
    {
     "name": "stdout",
     "output_type": "stream",
     "text": [
      "                     customer_unique_id  payment_value   customer_group\n",
      "0      0000366f3b9a7992bf8c76cfdf3221e2       141.9000  Silver Customer\n",
      "1      0000b849f77a49e4a4ce2b2a4ca5be3f        27.1900  Bronze Customer\n",
      "2      0000f46a3911fa3c0805444483337064        86.2200  Bronze Customer\n",
      "3      0000f6ccb0745a6a4b88665a16c9f078        43.6200  Bronze Customer\n",
      "4      0004aac84e0df4da2b147fca70cf8255       196.8900  Silver Customer\n",
      "...                                 ...            ...              ...\n",
      "93391  fffcf5a5ff07b0908bd4e2dbc735a684       688.8175  Golden Customer\n",
      "93392  fffea47cd6d3cc0a88bd621562a9d061        84.5800  Bronze Customer\n",
      "93393  ffff371b4d645b6ecea244b27531430a       112.4600  Silver Customer\n",
      "93394  ffff5962728ec6157033ef9805bacc48       133.6900  Silver Customer\n",
      "93395  ffffd2657e2aad2907e67c3e9daecbeb        71.5600  Bronze Customer\n",
      "\n",
      "[93396 rows x 3 columns]\n"
     ]
    }
   ],
   "source": [
    "payment_values = e_commerce.groupby('customer_unique_id')['payment_value'].sum().reset_index()\n",
    "\n",
    "bronze_limit = payment_values['payment_value'].quantile(0.5)\n",
    "silver_limit = payment_values['payment_value'].quantile(0.9)\n",
    "\n",
    "def classify_payment(value, bronze, silver):\n",
    "    if value <= bronze:\n",
    "        return 'Bronze Customer'\n",
    "    elif bronze < value <= silver:\n",
    "        return 'Silver Customer'\n",
    "    else:\n",
    "        return 'Golden Customer'\n",
    "\n",
    "payment_values['customer_group'] = payment_values['payment_value'].apply(lambda x: classify_payment(x, bronze_limit, silver_limit))\n",
    "\n",
    "print(payment_values)"
   ]
  },
  {
   "cell_type": "code",
   "execution_count": 107,
   "metadata": {},
   "outputs": [
    {
     "data": {
      "image/png": "[encoded data removed]",
      "text/plain": [
       "<Figure size 800x600 with 1 Axes>"
      ]
     },
     "metadata": {},
     "output_type": "display_data"
    }
   ],
   "source": [
    "customer_group_counts = payment_values['customer_group'].value_counts().reset_index()\n",
    "customer_group_counts.columns = ['Customer Group', 'Count']\n",
    "\n",
    "plt.figure(figsize=(8, 6))\n",
    "plt.bar(customer_group_counts['Customer Group'], customer_group_counts['Count'], color=['brown', 'silver', 'gold'])\n",
    "\n",
    "for i, value in enumerate(customer_group_counts['Count']):\n",
    "    plt.text(i, value + 0.5, str(value), ha='center', fontsize=12, color='darkblue')\n",
    "\n",
    "plt.title('Customer Segmentation Based on Total Payment Value')\n",
    "plt.xlabel('Customer Group')\n",
    "plt.ylabel('Number of Customers')\n",
    "plt.xticks(rotation=0)\n",
    "plt.show()"
   ]
  },
  {
   "cell_type": "markdown",
   "metadata": {
    "id": "_WeHlCeX8DC2"
   },
   "source": [
    "## Conclusion"
   ]
  },
  {
   "cell_type": "markdown",
   "metadata": {
    "id": "ZTcyR48Y8DC2"
   },
   "source": [
    "Based on the chart above, customers are divided into three groups: bronze, silver, and golden. This grouping is based on the total spending value of the customers.\n",
    "\n",
    "- Bronze Group includes customers with a total spending value below Q1.\n",
    "- Silver Group consists of customers with a total spending value between Q1 and Q3.\n",
    "- Golden Group includes customers with a total spending value above Q3.\n",
    "\n",
    "From the chart, it is evident that the bronze group has the highest number of customers, followed by the silver group, and lastly, the golden group.\n",
    "\n",
    "E-commerce platforms can apply different product offering strategies for each group:\n",
    "\n",
    "- Bronze Group: Offer products with decent quality at affordable prices. Additionally, strategies like \"Buy 1 Get 1\" can be used to increase purchase interest.\n",
    "- Silver Group: Offer products with good quality and competitive pricing. Discounts or special price reductions can also be used to attract customers.\n",
    "- Golden Group: Offer premium-quality products at higher prices. Customers in this group can also be given exclusive services, such as extended warranties or dedicated customer service.\n",
    "\n",
    "By tailoring strategies for each group, e-commerce platforms can maximize sales potential and build better relationships with their customers."
   ]
  }
 ],
 "metadata": {
  "colab": {
   "provenance": []
  },
  "kernelspec": {
   "display_name": "Python 3 (ipykernel)",
   "language": "python",
   "name": "python3"
  },
  "language_info": {
   "codemirror_mode": {
    "name": "ipython",
    "version": 3
   },
   "file_extension": ".py",
   "mimetype": "text/x-python",
   "name": "python",
   "nbconvert_exporter": "python",
   "pygments_lexer": "ipython3",
   "version": "3.10.9"
  },
  "vscode": {
   "interpreter": {
    "hash": "972b3bf27e332e87b5379f2791f6ef9dfc79c71018c370b0d7423235e20fe4d7"
   }
  }
 },
 "nbformat": 4,
 "nbformat_minor": 1
}
